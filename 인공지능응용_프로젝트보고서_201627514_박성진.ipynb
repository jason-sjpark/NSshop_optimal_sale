{
  "nbformat": 4,
  "nbformat_minor": 0,
  "metadata": {
    "colab": {
      "name": "인공지능응용 프로젝트_201627514 박성진.ipynb",
      "provenance": [],
      "collapsed_sections": [
        "YdaKPNlPV-SN",
        "_lMK7GM7dSee",
        "Q-se2Xf9pFIQ"
      ],
      "toc_visible": true
    },
    "kernelspec": {
      "name": "python3",
      "display_name": "Python 3"
    },
    "accelerator": "GPU"
  },
  "cells": [
    {
      "cell_type": "markdown",
      "metadata": {
        "id": "YmYz382qTqZQ"
      },
      "source": [
        "# 주제 : 홈쇼핑 판매 데이터를 활용하여 판매실적 예측하기\r\n",
        "\r\n",
        "<참고> 데이터 전처리 단계별 파일과 Train, Test 파일을 첨부하였으니 왼쪽 파일에 업로드 하시면 데이터 전처리 시간을 절약 하실 수 있습니다."
      ]
    },
    {
      "cell_type": "markdown",
      "metadata": {
        "id": "nSdjZffjXscG"
      },
      "source": [
        "# 데이터 설명\r\n",
        "\r\n",
        "###<홈쇼핑 데이터>\r\n",
        "*   방송일시 _ 제품이 홈쇼핑에 방영된 날짜 및 시간\r\n",
        "*   노출(분) _ 방영된 시간\r\n",
        "*   마더코드 _ 상품군에 대한 분류\r\n",
        "*   상품코드 _ 상세 품목에 대한 분류\r\n",
        "*   상품명 _ 판매되는 상품의 이름\r\n",
        "*   상품군 _ 상품에 대한 분류\r\n",
        "*   판매단가 _ 상품 1개에 대한 판매 가격\r\n",
        "*   취급액 _ 상품에 대한 총 판매액\r\n",
        "\r\n",
        "기간 : 2019년 1월 1일 ~ 12월 31일, 매일 06:00 ~ 23:40 까지의 판매 데이터\r\n",
        "\r\n",
        "출처 : 빅콘테스트 챔피언리그 제공 데이터\r\n",
        "\r\n",
        "###<기상 데이터>\r\n",
        "\r\n",
        "\r\n",
        "*   최저/최고/평균 기온\r\n",
        "*   강수량\r\n",
        "* 미세먼지 농도\r\n",
        "\r\n",
        "출처 : 기상청\r\n",
        "\r\n",
        "###<소비자 물가 지수 데이터>\r\n",
        "* 소비자 물가 지수\r\n",
        "\r\n",
        "출처 : 통계청\r\n",
        "\r\n",
        "\r\n",
        "\r\n",
        "\r\n",
        "\r\n"
      ]
    },
    {
      "cell_type": "markdown",
      "metadata": {
        "id": "TACOoR3iYL8m"
      },
      "source": [
        "#전처리 전략\r\n",
        "\r\n",
        "*   각 진행 상황별 디버깅을 원활히 하기위해 작업이 완료 될 때마다 현재 상황을 파일로 저장.\r\n",
        "* 특성을 선택하기 전 시각화를 통해 그 특성이 유의미한 차이를 드러내는 특성인지 파악 ( 참고자료에 시각화 데이터 첨부. )\r\n",
        "* 자주 판매되는 항목을 확인하기 위해 제품명을 단어 단위로 쪼개고 최빈 단어 순으로 정렬, 특성으로 추가\r\n",
        "* 핵심전략 : 취급액을 종속 변수로 예측할 경우 취급액 특성의 스케일이 너무 크기 때문에 정확한 예측이 어려워 진다. 따라서 판매 단가와 취급액을 참고하여 판매수량을 구하고 이를 예측하도록 한다. 이러한 방법을 통해 정확도 향상 효과를 기대할 수 있다. (취급액 = 판매단가 * 판매 수량이므로 판매 수량 예측이 곧 취급액 예측이다.)\r\n",
        "\r\n",
        "*   전처리과정은 다음과 같다.\r\n",
        "\r\n",
        " 1. 불필요한 특성 제거\r\n",
        " 2. 노출시간 결측치 기입\r\n",
        " 3. 상품군이 '무형'인 데이터 삭제\r\n",
        " 4. 판매수량 특성 추가\r\n",
        " 5. 휴일, 공휴일 특성 추가\r\n",
        " 6. 데이터 형변환 (연속형 -> 범주형)\r\n",
        " 7. 남여 특성 추가\r\n",
        " 8. 무이자, 일시불 특성 추가\r\n",
        " 9. 기상 데이터 추가\r\n",
        " 10. 물가 데이터 추가\r\n",
        " 11. 시각을 범주형 데이터로 변환하여 특성 추가\r\n",
        " 12. 특정 상품명 범주형 데이터로 변환하여 특성 추가\r\n",
        " 13. Split Train and Test data \r\n",
        "\r\n",
        "\r\n",
        "#기타 참고자료(시각화 자료, 빈출 단어 등)는 참고자료 폴더에 첨부.\r\n",
        "\r\n",
        "\r\n",
        "\r\n"
      ]
    },
    {
      "cell_type": "markdown",
      "metadata": {
        "id": "f4ftCIJJURKn"
      },
      "source": [
        "# 0. 필요한 module import하기"
      ]
    },
    {
      "cell_type": "code",
      "metadata": {
        "id": "ZpkSU-tjUaqv"
      },
      "source": [
        "# -*-coding cp949-*-\r\n",
        "import csv\r\n",
        "import pandas as pd\r\n",
        "import numpy as np\r\n",
        "from sklearn.model_selection import train_test_split"
      ],
      "execution_count": null,
      "outputs": []
    },
    {
      "cell_type": "markdown",
      "metadata": {
        "id": "eVuWFSxJUcgl"
      },
      "source": [
        "# 1. 불필요한 특성 제거 _ 마더코드, 상품코드\r\n",
        "\r\n",
        "*   제품의 판매실적을 예측하는데에 마더코드와 상품코드는 불필요한 특성이므로 제거. (보다 일반적인 예측을 가능하도록 하기 위함)\r\n",
        "\r\n"
      ]
    },
    {
      "cell_type": "code",
      "metadata": {
        "id": "A0jP1NBYUp21"
      },
      "source": [
        "df= pd.read_csv('실적데이터.csv', encoding='cp949')\r\n",
        "del df['마더코드']\r\n",
        "del df['상품코드']\r\n",
        "\r\n",
        "df.to_csv('./Preprocessing/01. 코드지우기.csv',encoding='cp949')"
      ],
      "execution_count": null,
      "outputs": []
    },
    {
      "cell_type": "markdown",
      "metadata": {
        "id": "Yoey103nUr13"
      },
      "source": [
        "# 2. 노출시간 빈칸채우기\r\n",
        "\r\n",
        "*   동일 품목에 대해 연속적으로 편성되었을 경우 맨 처음 편성에만 노출시간이 적혀있어 이후 편성에 노출시간을 기입해주는 과정 필요.\r\n",
        "\r\n"
      ]
    },
    {
      "cell_type": "code",
      "metadata": {
        "id": "OuXVFyDCV0Dk"
      },
      "source": [
        "f = open('./Preprocessing/01. 코드지우기.csv', 'r', encoding='cp949')\r\n",
        "rdr1 = csv.reader(f)\r\n",
        "w = open('./Preprocessing/02. 노출시간 빈칸채우기.csv', 'w', encoding='cp949', newline='')\r\n",
        "wr = csv.writer(w)\r\n",
        "\r\n",
        "for line1 in rdr1:\r\n",
        "    if line1[2]=='':\r\n",
        "        datetime = line1[1]\r\n",
        "        foundtime = 20000\r\n",
        "        s = open('./Preprocessing/01. 코드지우기.csv', 'r', encoding='cp949')\r\n",
        "        rdr2 = csv.reader(s)\r\n",
        "        for line2 in rdr2:\r\n",
        "            if line2[1] == datetime:\r\n",
        "                foundedtime = line2[2]\r\n",
        "                break\r\n",
        "        s.close()\r\n",
        "        line1[2] = foundedtime\r\n",
        "    wr.writerow(line1)\r\n",
        "\r\n",
        "f.close()\r\n",
        "w.close()"
      ],
      "execution_count": null,
      "outputs": []
    },
    {
      "cell_type": "markdown",
      "metadata": {
        "id": "YdaKPNlPV-SN"
      },
      "source": [
        "# 3. 상품군이 '무형'인 데이터 삭제\r\n",
        "\r\n",
        "*   판매 품목의 상품군이 '무형'인 경우(보험, 여행 상품 등) 판매가가 존재하지 않아 예측이 불가하므로 데이터 삭제.\r\n",
        "\r\n",
        "\r\n",
        "\r\n"
      ]
    },
    {
      "cell_type": "code",
      "metadata": {
        "id": "kVkg5CJzWmsP"
      },
      "source": [
        "f = open('./Preprocessing/02. 노출시간 빈칸채우기.csv', 'r', encoding='cp949')\r\n",
        "rdr = csv.reader(f)\r\n",
        "w = open('./Preprocessing/03. 실적데이터 무형 지우기.csv', 'w', encoding='cp949', newline='')\r\n",
        "wr = csv.writer(w)\r\n",
        "\r\n",
        "for line in rdr:\r\n",
        "    if line[4] != '무형':\r\n",
        "        wr.writerow(line)\r\n",
        "\r\n",
        "f.close()\r\n",
        "w.close()"
      ],
      "execution_count": null,
      "outputs": []
    },
    {
      "cell_type": "markdown",
      "metadata": {
        "id": "JcVmS5UaW3aQ"
      },
      "source": [
        "# 4. 판매 수량 특성 추가\r\n",
        "* 판매 단가를 float 형식으로 소수점으로 두는 것보다 올림한 int 값을 사용하는 것이 더 정확한 결과를 도출해냈으므로 올림한 값을 사용한다.\r\n",
        "*   취급액을 종속 변수로 예측할 경우 취급액 특성의 스케일이 너무 크기 때문에 정확한 예측이 어려워 진다. 따라서 판매 단가와 취급액을 참고하여 판매수량을 구하고 이를 예측하도록 한다. 이러한 방법을 통해 정확도 향상 효과를 기대할 수 있다.\r\n",
        "* 취급액 = 판매단가 * 판매 수량이므로 판매 수량 예측이 곧 취급액 예측이다.\r\n",
        " \r\n",
        " *추가 설명 : \r\n",
        " 1.   판매 단가가 높은 경우 판매량이 낮아도 취급액이 높을 수 있다.\r\n",
        " 2.   판매 수량이 많을수록 더욱 많은 소비자가 니즈를 느끼고 있다는 것.\r\n",
        "\r\n",
        " 추후 단순히 취급액이 높은 제품을 찾아내기 보다 판매수량이 높은 제품을 찾아내어 마케팅하는 전략도 필요하기 때문에 특성 추가.\r\n",
        "\r\n"
      ]
    },
    {
      "cell_type": "code",
      "metadata": {
        "id": "d5pbT_D7bXwN"
      },
      "source": [
        "df= pd.read_csv('./Preprocessing/03. 실적데이터 무형 지우기.csv',thousands=',', encoding='cp949')\r\n",
        "df['취급액'] = df['취급액'].fillna(value = 0)\r\n",
        "df['취급액'] = pd.to_numeric(df['취급액'])\r\n",
        "df['판매단가'] = pd.to_numeric(df['판매단가'])\r\n",
        "df[\"판매수량\"]=np.ceil(df[\"취급액\"]/df[\"판매단가\"]).astype(int)\r\n",
        "\r\n",
        "df.to_csv('./Preprocessing/04. 실적데이터 판매수량 추가.csv',encoding='cp949')"
      ],
      "execution_count": null,
      "outputs": []
    },
    {
      "cell_type": "markdown",
      "metadata": {
        "id": "_lMK7GM7dSee"
      },
      "source": [
        "# 5. 휴일, 공휴일 특성 추가\r\n",
        "\r\n",
        "*   편성일의 휴일, 공휴일 여부가 시청률과 매출액에 영향을 미칠것으로 판단하여 특성 추가\r\n",
        "\r\n"
      ]
    },
    {
      "cell_type": "code",
      "metadata": {
        "id": "E4xaDBWYdlfA"
      },
      "source": [
        "# 컬럼 정리\r\n",
        "raw_sold = pd.read_csv(\"./Preprocessing/04. 실적데이터 판매수량 추가.csv\", encoding='cp949')\r\n",
        "sold_data=raw_sold\r\n",
        "#인덱스 정렬\r\n",
        "col = []\r\n",
        "for num, temp in enumerate(sold_data['노출(분)']):\r\n",
        "    if pd.isna(temp) :\r\n",
        "        col.append(col[num-1])\r\n",
        "    else :\r\n",
        "        col.append(temp)\r\n",
        "sold_data['노출(분)']=col\r\n",
        "\r\n",
        "# 요일 붙여주기\r\n",
        "sold_data['방송일시']=pd.to_datetime(sold_data['방송일시'])\r\n",
        "sold_data['요일']=sold_data['방송일시'].dt.day_name()\r\n",
        "\r\n",
        "# 요일 바탕으로 휴일 붙여주기\r\n",
        "sold_data['휴일'] = [\"Yes\" if (s=='Saturday')|(s=='Sunday') else \"No\" for s in sold_data['요일']]\r\n",
        "# print(sold_data['방송일시'])\r\n",
        "\r\n",
        "# 공휴일 붙여주기\r\n",
        "holidays = ['2019-01-01','2019-02-04','2019-02-05','2019-02-06','2019-03-01','2019-05-06','2019-05-12','2019-06-06','2019-08-15','2019-09-12','2019-09-13','2019-09-14','2019-10-03','2019-10-09','2019-12-25','2020-01-01']\r\n",
        "# print(holidays)\r\n",
        "\r\n",
        "#비교 위해 방송일시 date만 남겨서 문자열로 바꾸기\r\n",
        "date=sold_data['방송일시'].dt.strftime(\"%Y-%m-%d\")\r\n",
        "\r\n",
        "#holidays랑 비교해서 공휴일 인지 아닌지 리스트로 내보내기\r\n",
        "is_hol=[]\r\n",
        "for i in date:\r\n",
        "    if i in holidays:\r\n",
        "        is_hol.append('Yes')\r\n",
        "    else:\r\n",
        "        is_hol.append('No')\r\n",
        "\r\n",
        "#is_hol을 sold_data에 붙여주기\r\n",
        "sold_data['공휴일']=is_hol\r\n",
        "\r\n",
        "#csv로 내보내기\r\n",
        "sold_data.to_csv('./Preprocessing/05. 실적데이터(휴일,공휴일 추가).csv',encoding='cp949')"
      ],
      "execution_count": null,
      "outputs": []
    },
    {
      "cell_type": "markdown",
      "metadata": {
        "id": "Mcpn2VxXeB8L"
      },
      "source": [
        "# 6. 데이터 형변환\r\n",
        "\r\n",
        "*   연속형 변수중 범주화가 가능한 특성을 범주형 변수로 형변환\r\n",
        "\r\n",
        "*   판매 단가의 경우 데이터 시각화 후 취급액의 변화를 관찰하여 판매단가를 알맞은 범위로 범주화\r\n",
        "\r\n",
        "* 판매금액에 단위가격을 900원, 9000원 등으로 산정하는 전략을 펼쳤을 경우 매출에 변화가 있을 것으로 예상하여 이를 살펴보기 위해 '단위 가격' 특성 추가 \r\n",
        "\r\n"
      ]
    },
    {
      "cell_type": "code",
      "metadata": {
        "id": "VgQCuh4cmSmt"
      },
      "source": [
        "train = pd.read_csv('./Preprocessing/05. 실적데이터(휴일,공휴일 추가).csv', encoding='cp949')\r\n",
        "\r\n",
        "# 상품군 숫자형으로 변환 (가나다 순)\r\n",
        "train['상품군'] = train['상품군'].map( {'가구': 0, '가전': 1, '건강기능': 2, '농수축': 3, '생활용품': 4, '속옷': 5, '의류': 6, '이미용': 7, '잡화': 8, '주방': 9, '침구': 10} ).astype(int)\r\n",
        "\r\n",
        "# 노출시간 범주형으로 변환\r\n",
        "for i in range(train.shape[0]):\r\n",
        "    if (train.iloc[i]['노출(분)'] <= 10):\r\n",
        "        train.loc[i, '노출(분)'] = 10\r\n",
        "    elif (train.iloc[i]['노출(분)'] <= 20):\r\n",
        "        train.loc[i, '노출(분)'] = 20\r\n",
        "    elif (train.iloc[i]['노출(분)'] <= 30):\r\n",
        "        train.loc[i, '노출(분)'] = 30\r\n",
        "    elif (train.iloc[i]['노출(분)'] <= 40):\r\n",
        "        train.loc[i, '노출(분)'] = 40\r\n",
        "    else :\r\n",
        "        train.loc[i, '노출(분)'] = 50\r\n",
        "\r\n",
        "# 판매단가 범주형으로 변환\r\n",
        "\r\n",
        "train['판매단가'] = pd.to_numeric(train['판매단가']) # int형으로 변환\r\n",
        "\r\n",
        "for i in range(train.shape[0]):\r\n",
        "    if (train.iloc[i]['판매단가'] <= 30900):\r\n",
        "        train.loc[i, 'New판매단가'] = 1\r\n",
        "    elif (train.iloc[i]['판매단가'] <= 35900):\r\n",
        "        train.loc[i, 'New판매단가'] = 2\r\n",
        "    elif (train.iloc[i]['판매단가'] <= 42000):\r\n",
        "        train.loc[i, 'New판매단가'] = 3\r\n",
        "    elif (train.iloc[i]['판매단가'] <= 48000):\r\n",
        "        train.loc[i, 'New판매단가'] = 4\r\n",
        "    elif (train.iloc[i]['판매단가'] <= 55600):\r\n",
        "        train.loc[i, 'New판매단가'] = 5\r\n",
        "    elif (train.iloc[i]['판매단가'] <= 60800):\r\n",
        "        train.loc[i, 'New판매단가'] = 6\r\n",
        "    elif (train.iloc[i]['판매단가'] <= 64800):\r\n",
        "        train.loc[i, 'New판매단가'] = 7\r\n",
        "    elif (train.iloc[i]['판매단가'] <= 73900):\r\n",
        "        train.loc[i, 'New판매단가'] = 8\r\n",
        "    elif (train.iloc[i]['판매단가'] <= 95200):\r\n",
        "        train.loc[i, 'New판매단가'] = 9\r\n",
        "    elif (train.iloc[i]['판매단가'] <= 147000):\r\n",
        "        train.loc[i, 'New판매단가'] = 10\r\n",
        "    elif (train.iloc[i]['판매단가'] <= 219000):\r\n",
        "        train.loc[i, 'New판매단가'] = 11\r\n",
        "    elif (train.iloc[i]['판매단가'] > 219000):\r\n",
        "        train.loc[i, 'New판매단가'] = 12\r\n",
        "\r\n",
        "#단위가격 특성 추가\r\n",
        "train['판매단가'] = train['판매단가'].astype(str) # str형으로 변환\r\n",
        "for i in range(train.shape[0]):\r\n",
        "    if (train.iloc[i]['판매단가'][-3] == '9'):\r\n",
        "        train.loc[i, '단위가격'] = 1\r\n",
        "    elif (train.iloc[i]['판매단가'][-3] == '8'):\r\n",
        "        train.loc[i, '단위가격'] = 1\r\n",
        "    elif (train.iloc[i]['판매단가'][-4] == '9'):\r\n",
        "        train.loc[i, '단위가격'] = 1\r\n",
        "    elif (train.iloc[i]['판매단가'][-4] == '8'):\r\n",
        "        train.loc[i, '단위가격'] = 1\r\n",
        "    else:\r\n",
        "        train.loc[i, '단위가격'] = 0\r\n",
        "\r\n",
        "train.to_csv('./Preprocessing/06. 숫자형_범주형_변환.csv',encoding='cp949')"
      ],
      "execution_count": null,
      "outputs": []
    },
    {
      "cell_type": "markdown",
      "metadata": {
        "id": "Q-se2Xf9pFIQ"
      },
      "source": [
        "# 7, 8. 남/여 특성 및 무이자/일시불 특성 추가 \r\n",
        "\r\n",
        "\r\n",
        "\r\n",
        "*   의류의 경우 시각화 결과 남/여 제품에 따라 유의미한 매출액의 차이를 발견 -> 이를 특성으로 추가 (남 = 0, 여 = 1, 이 외 = 2)\r\n",
        "\r\n",
        "* 무이자/일시불에 따라 유의미한 차이를 발견 -> 특성 추가 (무이자 = 0, 일시불 = 1, 이 외 = 2)\r\n",
        "\r\n",
        "\r\n"
      ]
    },
    {
      "cell_type": "code",
      "metadata": {
        "id": "okbCO2mHqZS-"
      },
      "source": [
        "# 컬럼 정리\r\n",
        "raw_sold = pd.read_csv(\"./Preprocessing/06. 숫자형_범주형_변환.csv\", encoding='cp949')\r\n",
        "sold_data = raw_sold\r\n",
        "\r\n",
        "sold_data.loc[(sold_data['상품명'].str.contains('남성|남자')) & (sold_data['상품군']==6), \"남여\"] = 0\r\n",
        "sold_data.loc[(sold_data['상품명'].str.contains('여성|여자')) & (sold_data['상품군']==6), \"남여\"] = 1\r\n",
        "sold_data['남여'] = sold_data['남여'].fillna(value = 2)\r\n",
        "\r\n",
        "# 무이자/일시불 붙여주기 (무이자=0, 일시불=1)\r\n",
        "sold_data.loc[sold_data['상품명'].str.contains('무이자'), \"무이자/일시불\"] = 0\r\n",
        "sold_data.loc[sold_data['상품명'].str.contains('일시불'), \"무이자/일시불\"] = 1\r\n",
        "sold_data['무이자/일시불'] = sold_data['무이자/일시불'].fillna(value = 2)\r\n",
        "# csv로 내보내기\r\n",
        "sold_data.to_csv('./Preprocessing/07and08. 실적데이터(남여, 무이자일시불 구분).csv', encoding='cp949')"
      ],
      "execution_count": null,
      "outputs": []
    },
    {
      "cell_type": "markdown",
      "metadata": {
        "id": "00l6a_HQqf-E"
      },
      "source": [
        "# 9, 10. 기상, 물가 데이터 추가\r\n",
        "\r\n",
        "*   기상 상황에 따라 특정 상품의 판매액에 변화가 있을 것으로 예상하여 특성추가 ( 최저 / 최고 / 평균 기온, 강수량, 미세먼지 농도 등 )\r\n",
        "* 당시의 물가 지수와 소비 시장 상황에 따라 판매액에 변화가 있을 것으로 예상하여 특성추가(소비자 물가 지수)\r\n"
      ]
    },
    {
      "cell_type": "code",
      "metadata": {
        "id": "iH4uxV9Lq15t"
      },
      "source": [
        "# 실적데이터 train으로 불러오기\r\n",
        "train = pd.read_csv('./Preprocessing/07and08. 실적데이터(남여, 무이자일시불 구분).csv', encoding='cp949')\r\n",
        "# 기상데이터 weather으로 불러오기\r\n",
        "weather = pd.read_csv('./외부 추가 데이터/일별_기상데이터.csv', encoding='cp949')\r\n",
        "\r\n",
        "train = train.drop(['Unnamed: 0'],axis=1).copy()\r\n",
        "train['남여'] = train['남여'].fillna(value = 2)\r\n",
        "\r\n",
        "# train의 방송일시 컬럼 자료형 날짜형으로 변환\r\n",
        "train['방송일시'] = pd.to_datetime(train['방송일시'], format='%Y-%m-%d %H:%M:%S', errors='raise')\r\n",
        "# weather의 날짜 컬럼 자료형 날짜형으로 변환\r\n",
        "weather['날짜'] = pd.to_datetime(weather['날짜'], format='%Y-%m-%d %H:%M:%S', errors='raise')\r\n",
        "\r\n",
        "# train에 평균기온, 강수량 컬럼 추가 (기본값 0.0, double형)\r\n",
        "train['최저기온'] = 0.0\r\n",
        "train['최고기온'] = 0.0\r\n",
        "train['평균기온'] = 0.0\r\n",
        "train['강수량'] = 0.0\r\n",
        "train['미세먼지농도'] = 0.0\r\n",
        "\r\n",
        "k = 0\r\n",
        "# 방송일시의 일에 맞는 기상데이터 넣어주기\r\n",
        "for i in range(train.shape[0]):\r\n",
        "    for j in range(k,weather.shape[0]):\r\n",
        "        if (train.iloc[i]['방송일시'].date() == weather.iloc[j]['날짜'].date()):\r\n",
        "            train.loc[i, '최저기온'] = weather.loc[j, '최저기온']\r\n",
        "            train.loc[i, '최고기온'] = weather.loc[j, '최고기온']\r\n",
        "            train.loc[i, '평균기온'] = weather.loc[j, '평균기온']\r\n",
        "            train.loc[i, '강수량'] = weather.loc[j, '강수량']\r\n",
        "            train.loc[i, '미세먼지농도'] = weather.loc[j, '미세먼지농도']\r\n",
        "            k = j\r\n",
        "            break\r\n",
        "\r\n",
        "# 물가지수입력\r\n",
        "# 소비자물가지수 CPI로 불러오기\r\n",
        "CPI = pd.read_csv('./외부 추가 데이터/월별_소비자물가지수.csv', encoding='cp949')\r\n",
        "\r\n",
        "# train에 소비자물가지수 컬럼 추가 (기본값 0.0, double형)\r\n",
        "train['소비자물가지수'] = 0.0\r\n",
        "\r\n",
        "# 방송일시의 월에 맞는 소비자물가지수 넣어주기\r\n",
        "for i in range(train.shape[0]):\r\n",
        "    for j in range(1, 13):\r\n",
        "        if (train.iloc[i]['방송일시'].month == j):\r\n",
        "            train.loc[i, '소비자물가지수'] = CPI['소비자물가지수'][j - 1]\r\n",
        "            break\r\n",
        "\r\n",
        "train.to_csv('./Preprocessing/09and10. 기상_물가_데이터추가.csv', encoding='cp949')"
      ],
      "execution_count": null,
      "outputs": []
    },
    {
      "cell_type": "markdown",
      "metadata": {
        "id": "hPq6rjWOsTtH"
      },
      "source": [
        "# 11. 방영 시각을 인덱스로 범주화\r\n",
        "\r\n",
        "*   시각화 결과 방영 시각 별로 유의미한 차이를 발견하여 방영 시각을 범주화하여 인덱싱 후 특성추가\r\n",
        "\r\n"
      ]
    },
    {
      "cell_type": "code",
      "metadata": {
        "id": "iX_WxKEHspkk"
      },
      "source": [
        "import pandas as pd\r\n",
        "\r\n",
        "#10 분 간격으로 나누어 index 저장\r\n",
        "ts_day_idx = pd.date_range('00:00:00','23:50:00',freq='10T')\r\n",
        "series_ts = pd.DataFrame(ts_day_idx, index=range(len(ts_day_idx)))\r\n",
        "series_ts.columns = ['시각']\r\n",
        "series_ts['시각인덱스'] = series_ts.index\r\n",
        "series_ts['시각'] = series_ts['시각'].dt.strftime(\"%H:%M:%S\")\r\n",
        "\r\n",
        "train = pd.read_csv('./Preprocessing/09and10. 기상_물가_데이터추가.csv', header=0,encoding='cp949')\r\n",
        "train = train.drop(['Unnamed: 0'],axis=1).copy()\r\n",
        "\r\n",
        "train['방송일시'] = pd.to_datetime(train['방송일시'])\r\n",
        "train['시각'] = train['방송일시'].dt.strftime(\"%H:%M:%S\")\r\n",
        "\r\n",
        "total=pd.merge(train,series_ts,on='시각',how='left')\r\n",
        "total.to_csv('./Preprocessing/11. 시간추출, 치환.csv', encoding='cp949')"
      ],
      "execution_count": null,
      "outputs": []
    },
    {
      "cell_type": "markdown",
      "metadata": {
        "id": "oEqETiqAs3aQ"
      },
      "source": [
        "# 12. 특정 상품명 특성 추가\r\n",
        "\r\n",
        "*  편성 횟수와 판매액이 높은 제품 순서대로 정렬 후, 제품명을 word 단위로 split후 wordcloud로 시각화 및 목록 추출\r\n",
        "* 이 단어들이 포함된 제품을 따로 특성 추가 \r\n",
        "* 단어 갯수는 노출 빈도가 급감하는 범위 전까지 설정. ( 119개 )\r\n",
        "\r\n",
        "\r\n"
      ]
    },
    {
      "cell_type": "code",
      "metadata": {
        "id": "q8pJ73HitqZC"
      },
      "source": [
        "raw_sold = pd.read_csv(\"./Preprocessing/11. 시간추출, 치환.csv\", encoding='cp949')\r\n",
        "sold_data = raw_sold\r\n",
        "\r\n",
        "# 무이자/일시불 붙여주기 (무이자=0, 일시불=1)\r\n",
        "sold_data.loc[sold_data['상품명'].str.contains('TV'), \"New상품명\"] = 1\r\n",
        "sold_data.loc[sold_data['상품명'].str.contains('쿠쿠전기밥솥'), \"New상품명\"] = 2\r\n",
        "sold_data.loc[sold_data['상품명'].str.contains('침대'), \"New상품명\"] = 3\r\n",
        "sold_data.loc[sold_data['상품명'].str.contains('압력밥솥'), \"New상품명\"] = 4\r\n",
        "sold_data.loc[sold_data['상품명'].str.contains('유로탑'), \"New상품명\"] = 5\r\n",
        "sold_data.loc[sold_data['상품명'].str.contains('드로즈'), \"New상품명\"] = 6\r\n",
        "sold_data.loc[sold_data['상품명'].str.contains('에어컨'), \"New상품명\"] = 7\r\n",
        "sold_data.loc[sold_data['상품명'].str.contains('소파'), \"New상품명\"] = 8\r\n",
        "sold_data.loc[sold_data['상품명'].str.contains('냉장고'), \"New상품명\"] = 9\r\n",
        "sold_data.loc[sold_data['상품명'].str.contains('세탁기'), \"New상품명\"] = 10\r\n",
        "sold_data.loc[sold_data['상품명'].str.contains('침구세트'), \"New상품명\"] = 11\r\n",
        "sold_data.loc[sold_data['상품명'].str.contains('가스레인지'), \"New상품명\"] = 12\r\n",
        "sold_data.loc[sold_data['상품명'].str.contains('노트북'), \"New상품명\"] = 13\r\n",
        "sold_data.loc[sold_data['상품명'].str.contains('분쇄믹서기'), \"New상품명\"] = 14\r\n",
        "sold_data.loc[sold_data['상품명'].str.contains('온수매트'), \"New상품명\"] = 15\r\n",
        "sold_data.loc[sold_data['상품명'].str.contains('브라팬티'), \"New상품명\"] = 16\r\n",
        "sold_data.loc[sold_data['상품명'].str.contains('안동간고등어'), \"New상품명\"] = 17\r\n",
        "sold_data.loc[sold_data['상품명'].str.contains('LED침대'), \"New상품명\"] = 18\r\n",
        "sold_data.loc[sold_data['상품명'].str.contains('트렁크'), \"New상품명\"] = 19\r\n",
        "sold_data.loc[sold_data['상품명'].str.contains('캐리어'), \"New상품명\"] = 20\r\n",
        "sold_data.loc[sold_data['상품명'].str.contains('에어프라이어'), \"New상품명\"] = 21\r\n",
        "sold_data.loc[sold_data['상품명'].str.contains('벽걸이에어컨'), \"New상품명\"] = 22\r\n",
        "sold_data.loc[sold_data['상품명'].str.contains('비데'), \"New상품명\"] = 23\r\n",
        "sold_data.loc[sold_data['상품명'].str.contains('냄비세트'), \"New상품명\"] = 24\r\n",
        "sold_data.loc[sold_data['상품명'].str.contains('데님팬츠'), \"New상품명\"] = 25\r\n",
        "sold_data.loc[sold_data['상품명'].str.contains('소곱창전골'), \"New상품명\"] = 26\r\n",
        "sold_data.loc[sold_data['상품명'].str.contains('선글라스'), \"New상품명\"] = 27\r\n",
        "sold_data.loc[sold_data['상품명'].str.contains('크로스백'), \"New상품명\"] = 28\r\n",
        "sold_data.loc[sold_data['상품명'].str.contains('숄더백'), \"New상품명\"] = 29\r\n",
        "sold_data.loc[sold_data['상품명'].str.contains('토트백'), \"New상품명\"] = 30\r\n",
        "sold_data.loc[sold_data['상품명'].str.contains('손질갑오징어'), \"New상품명\"] = 31\r\n",
        "sold_data.loc[sold_data['상품명'].str.contains('생유산균골드'), \"New상품명\"] = 32\r\n",
        "sold_data.loc[sold_data['상품명'].str.contains('다이아몬드'), \"New상품명\"] = 33\r\n",
        "sold_data.loc[sold_data['상품명'].str.contains('롱코트'), \"New상품명\"] = 34\r\n",
        "sold_data.loc[sold_data['상품명'].str.contains('밍크'), \"New상품명\"] = 35\r\n",
        "sold_data.loc[sold_data['상품명'].str.contains('니트'), \"New상품명\"] = 36\r\n",
        "sold_data.loc[sold_data['상품명'].str.contains('팔찌'), \"New상품명\"] = 37\r\n",
        "sold_data.loc[sold_data['상품명'].str.contains('모시떡'), \"New상품명\"] = 38\r\n",
        "sold_data.loc[sold_data['상품명'].str.contains('쌀'), \"New상품명\"] = 39\r\n",
        "sold_data.loc[sold_data['상품명'].str.contains('가스와이드그릴'), \"New상품명\"] = 40\r\n",
        "sold_data.loc[sold_data['상품명'].str.contains('프라이팬'), \"New상품명\"] = 41\r\n",
        "sold_data.loc[sold_data['상품명'].str.contains('팬츠'), \"New상품명\"] = 42\r\n",
        "sold_data.loc[sold_data['상품명'].str.contains('목걸이'), \"New상품명\"] = 43\r\n",
        "sold_data.loc[sold_data['상품명'].str.contains('패딩'), \"New상품명\"] = 44\r\n",
        "sold_data.loc[sold_data['상품명'].str.contains('무선청소기'), \"New상품명\"] = 45\r\n",
        "sold_data.loc[sold_data['상품명'].str.contains('티셔츠'), \"New상품명\"] = 46\r\n",
        "sold_data.loc[sold_data['상품명'].str.contains('녹용도가니탕'), \"New상품명\"] = 47\r\n",
        "sold_data.loc[sold_data['상품명'].str.contains('손질문어'), \"New상품명\"] = 48\r\n",
        "sold_data.loc[sold_data['상품명'].str.contains('순금'), \"New상품명\"] = 49\r\n",
        "sold_data.loc[sold_data['상품명'].str.contains('포기김치'), \"New상품명\"] = 50\r\n",
        "sold_data.loc[sold_data['상품명'].str.contains('롱드로즈'), \"New상품명\"] = 51\r\n",
        "sold_data.loc[sold_data['상품명'].str.contains('후라이팬'), \"New상품명\"] = 52\r\n",
        "sold_data.loc[sold_data['상품명'].str.contains('런닝'), \"New상품명\"] = 53\r\n",
        "sold_data.loc[sold_data['상품명'].str.contains('언더셔츠'), \"New상품명\"] = 54\r\n",
        "sold_data.loc[sold_data['상품명'].str.contains('통오징어'), \"New상품명\"] = 55\r\n",
        "sold_data.loc[sold_data['상품명'].str.contains('사첼백'), \"New상품명\"] = 56\r\n",
        "sold_data.loc[sold_data['상품명'].str.contains('두유48팩'), \"New상품명\"] = 57\r\n",
        "sold_data.loc[sold_data['상품명'].str.contains('락앤락'), \"New상품명\"] = 58\r\n",
        "sold_data.loc[sold_data['상품명'].str.contains('전기밥솥'), \"New상품명\"] = 59\r\n",
        "sold_data.loc[sold_data['상품명'].str.contains('전자레인지'), \"New상품명\"] = 60\r\n",
        "sold_data.loc[sold_data['상품명'].str.contains('쥐포'), \"New상품명\"] = 61\r\n",
        "sold_data.loc[sold_data['상품명'].str.contains('레깅스'), \"New상품명\"] = 62\r\n",
        "sold_data.loc[sold_data['상품명'].str.contains('석류'), \"New상품명\"] = 63\r\n",
        "sold_data.loc[sold_data['상품명'].str.contains('원피스'), \"New상품명\"] = 64\r\n",
        "sold_data.loc[sold_data['상품명'].str.contains('브라'), \"New상품명\"] = 65\r\n",
        "sold_data.loc[sold_data['상품명'].str.contains('브라탑'), \"New상품명\"] = 66\r\n",
        "sold_data.loc[sold_data['상품명'].str.contains('코트'), \"New상품명\"] = 67\r\n",
        "sold_data.loc[sold_data['상품명'].str.contains('샌들'), \"New상품명\"] = 68\r\n",
        "sold_data.loc[sold_data['상품명'].str.contains('온열매트'), \"New상품명\"] = 69\r\n",
        "sold_data.loc[sold_data['상품명'].str.contains('치마레깅스'), \"New상품명\"] = 70\r\n",
        "sold_data.loc[sold_data['상품명'].str.contains('갓김치3kg+총각김치3kg'), \"New상품명\"] = 71\r\n",
        "sold_data.loc[sold_data['상품명'].str.contains('항균도마'), \"New상품명\"] = 72\r\n",
        "sold_data.loc[sold_data['상품명'].str.contains('핸드백'), \"New상품명\"] = 73\r\n",
        "sold_data.loc[sold_data['상품명'].str.contains('리빙박스'), \"New상품명\"] = 74\r\n",
        "sold_data.loc[sold_data['상품명'].str.contains('반지'), \"New상품명\"] = 75\r\n",
        "sold_data.loc[sold_data['상품명'].str.contains('햅쌀'), \"New상품명\"] = 76\r\n",
        "sold_data.loc[sold_data['상품명'].str.contains('루테인'), \"New상품명\"] = 77\r\n",
        "sold_data.loc[sold_data['상품명'].str.contains('넥센타이어'), \"New상품명\"] = 78\r\n",
        "sold_data.loc[sold_data['상품명'].str.contains('자켓'), \"New상품명\"] = 79\r\n",
        "sold_data.loc[sold_data['상품명'].str.contains('예초기'), \"New상품명\"] = 80\r\n",
        "sold_data.loc[sold_data['상품명'].str.contains('백팩'), \"New상품명\"] = 81\r\n",
        "sold_data.loc[sold_data['상품명'].str.contains('갈비탕'), \"New상품명\"] = 82\r\n",
        "sold_data.loc[sold_data['상품명'].str.contains('손질갈치'), \"New상품명\"] = 83\r\n",
        "sold_data.loc[sold_data['상품명'].str.contains('베스트'), \"New상품명\"] = 84\r\n",
        "sold_data.loc[sold_data['상품명'].str.contains('브라세트'), \"New상품명\"] = 85\r\n",
        "sold_data.loc[sold_data['상품명'].str.contains('밴딩팬츠'), \"New상품명\"] = 86\r\n",
        "sold_data.loc[sold_data['상품명'].str.contains('남성기초세트'), \"New상품명\"] = 87\r\n",
        "sold_data.loc[sold_data['상품명'].str.contains('동태포'), \"New상품명\"] = 88\r\n",
        "sold_data.loc[sold_data['상품명'].str.contains('행주티슈'), \"New상품명\"] = 89\r\n",
        "sold_data.loc[sold_data['상품명'].str.contains('손질새우'), \"New상품명\"] = 90\r\n",
        "sold_data.loc[sold_data['상품명'].str.contains('여행가방'), \"New상품명\"] = 91\r\n",
        "sold_data.loc[sold_data['상품명'].str.contains('스니커즈'), \"New상품명\"] = 92\r\n",
        "sold_data.loc[sold_data['상품명'].str.contains('손질왕꼬막'), \"New상품명\"] = 93\r\n",
        "sold_data.loc[sold_data['상품명'].str.contains('백김치'), \"New상품명\"] = 94\r\n",
        "sold_data.loc[sold_data['상품명'].str.contains('러닝화'), \"New상품명\"] = 95\r\n",
        "sold_data.loc[sold_data['상품명'].str.contains('청소기'), \"New상품명\"] = 96\r\n",
        "sold_data.loc[sold_data['상품명'].str.contains('물걸레'), \"New상품명\"] = 97\r\n",
        "sold_data.loc[sold_data['상품명'].str.contains('갑오징어'), \"New상품명\"] = 98\r\n",
        "sold_data.loc[sold_data['상품명'].str.contains('후드코트'), \"New상품명\"] = 99\r\n",
        "sold_data.loc[sold_data['상품명'].str.contains('워킹화'), \"New상품명\"] = 100\r\n",
        "sold_data.loc[sold_data['상품명'].str.contains('브라캡'), \"New상품명\"] = 101\r\n",
        "sold_data.loc[sold_data['상품명'].str.contains('손질꽃게'), \"New상품명\"] = 102\r\n",
        "sold_data.loc[sold_data['상품명'].str.contains('서랍장'), \"New상품명\"] = 103\r\n",
        "sold_data.loc[sold_data['상품명'].str.contains('꽃게'), \"New상품명\"] = 104\r\n",
        "sold_data.loc[sold_data['상품명'].str.contains('코르셋'), \"New상품명\"] = 105\r\n",
        "sold_data.loc[sold_data['상품명'].str.contains('젤네일스트립'), \"New상품명\"] = 106\r\n",
        "sold_data.loc[sold_data['상품명'].str.contains('다이아'), \"New상품명\"] = 107\r\n",
        "sold_data.loc[sold_data['상품명'].str.contains('LA갈비'), \"New상품명\"] = 108\r\n",
        "sold_data.loc[sold_data['상품명'].str.contains('옷걸이'), \"New상품명\"] = 109\r\n",
        "sold_data.loc[sold_data['상품명'].str.contains('릴렉스팬츠'), \"New상품명\"] = 110\r\n",
        "sold_data.loc[sold_data['상품명'].str.contains('카페트'), \"New상품명\"] = 111\r\n",
        "sold_data.loc[sold_data['상품명'].str.contains('매트릭스'), \"New상품명\"] = 112\r\n",
        "sold_data.loc[sold_data['상품명'].str.contains('트렌치코트'), \"New상품명\"] = 113\r\n",
        "sold_data.loc[sold_data['상품명'].str.contains('반팔'), \"New상품명\"] = 114\r\n",
        "sold_data.loc[sold_data['상품명'].str.contains('공기청정기'), \"New상품명\"] = 115\r\n",
        "sold_data.loc[sold_data['상품명'].str.contains('로봇청소기'), \"New상품명\"] = 116\r\n",
        "sold_data.loc[sold_data['상품명'].str.contains('롱패딩'), \"New상품명\"] = 117\r\n",
        "sold_data.loc[sold_data['상품명'].str.contains('바다장어'), \"New상품명\"] = 118\r\n",
        "sold_data.loc[sold_data['상품명'].str.contains('패션밍크'), \"New상품명\"] = 119\r\n",
        "\r\n",
        "sold_data['New상품명'] = sold_data['New상품명'].fillna(value = 0)\r\n",
        "\r\n",
        "#공휴일, 휴일여부 renaming\r\n",
        "sold_data.loc[sold_data['공휴일'].str.contains('Yes'), \"공휴일 여부\"] = 1\r\n",
        "sold_data.loc[sold_data['공휴일'].str.contains('No'), \"공휴일 여부\"] = 0\r\n",
        "sold_data.loc[sold_data['휴일'].str.contains('Yes'), \"휴일 여부\"] = 1\r\n",
        "sold_data.loc[sold_data['휴일'].str.contains('No'), \"휴일 여부\"] = 0\r\n",
        "sold_data.loc[sold_data['요일'].str.contains('Monday'), \"New요일\"] = 0\r\n",
        "sold_data.loc[sold_data['요일'].str.contains('Tuesday'), \"New요일\"] = 1\r\n",
        "sold_data.loc[sold_data['요일'].str.contains('Wednesday'), \"New요일\"] = 2\r\n",
        "sold_data.loc[sold_data['요일'].str.contains('Thursday'), \"New요일\"] = 3\r\n",
        "sold_data.loc[sold_data['요일'].str.contains('Friday'), \"New요일\"] = 4\r\n",
        "sold_data.loc[sold_data['요일'].str.contains('Saturday'), \"New요일\"] = 5\r\n",
        "sold_data.loc[sold_data['요일'].str.contains('Sunday'), \"New요일\"] = 6\r\n",
        "\r\n",
        "# csv로 내보내기\r\n",
        "sold_data.to_csv('./Preprocessing/12. 상품명 치환.csv', encoding='cp949')"
      ],
      "execution_count": null,
      "outputs": []
    },
    {
      "cell_type": "markdown",
      "metadata": {
        "id": "FfyPXyKBuEmd"
      },
      "source": [
        "# 학습, 평가 데이터 도출\r\n",
        "\r\n",
        "\r\n",
        "\r\n",
        "*   머신러닝을 위해 데이터를 7:3의 비율로 학습, 평가 데이터로 나눔\r\n",
        "\r\n"
      ]
    },
    {
      "cell_type": "code",
      "metadata": {
        "id": "LgN9eVRXuU6d"
      },
      "source": [
        "from sklearn.model_selection import train_test_split\r\n",
        "\r\n",
        "df = pd.read_csv(\"./Preprocessing/12. 상품명 치환.csv\", sep=\",\", encoding='cp949')\r\n",
        "df = df.drop(['Unnamed: 0'],axis=1).copy()\r\n",
        "df = df.drop(['Unnamed: 0.1'],axis=1).copy()\r\n",
        "df = df.drop(['Unnamed: 0.1.1'],axis=1).copy()\r\n",
        "df = df.drop(['Unnamed: 0.1.1.1'],axis=1).copy()\r\n",
        "df = df.drop(['Unnamed: 0.1.1.1.1'],axis=1).copy()\r\n",
        "df = df.drop(['Unnamed: 0.1.1.1.1.1'],axis=1).copy()\r\n",
        "\r\n",
        "train, test = train_test_split(df, test_size=0.3)\r\n",
        "\r\n",
        "train.to_csv('./Preprocessing/13_1. 최종train.csv', encoding='cp949')\r\n",
        "test.to_csv('./Preprocessing/13_2. 최종test.csv', encoding='cp949')"
      ],
      "execution_count": null,
      "outputs": []
    },
    {
      "cell_type": "markdown",
      "metadata": {
        "id": "T3-g6ITOFNH5"
      },
      "source": [
        "# 1. 머신러닝 학습 및 평가\r\n"
      ]
    },
    {
      "cell_type": "markdown",
      "metadata": {
        "id": "dUAReELTFXt4"
      },
      "source": [
        "# 머신러닝 전략\r\n",
        "\r\n",
        "*   도출한 데이터에 취급액이 Labeling 되어있으므로 Supervised Learing을 진행한다.\r\n",
        "*   다양한 특성을 반영하여 취급액을 도출해내는 '회귀' 문제이므로 이에 알맞는 머신러닝 기법인 Linear Regression, Decision Tree, RandomForest, SVM의 기본 하이퍼 파라미터값으로 학습 및 평가(mse, 평균제곱근오차) 후 제일 성능이 좋은 모델 선택\r\n",
        "* 모델 하이퍼 파라미터와 데이터의 특성을 조절해가며 모델 세부조정\r\n",
        "\r\n"
      ]
    },
    {
      "cell_type": "code",
      "metadata": {
        "id": "f00INYtnORoE"
      },
      "source": [
        "import pandas as pd\r\n",
        "import numpy as np\r\n",
        "import matplotlib.pyplot as plt\r\n",
        "import matplotlib as mpl\r\n",
        "from matplotlib import font_manager\r\n",
        "from matplotlib import rc\r\n",
        "import pickle\r\n",
        "\r\n",
        "# 한글사용위한 코드\r\n",
        "font_name = font_manager.FontProperties(fname=\"malgun.ttf\").get_name()\r\n",
        "rc('font', family=font_name)\r\n",
        "plt.rcParams['axes.unicode_minus'] = False\r\n",
        "\r\n",
        "# 전처리 완료한 실적데이터를 train으로 받아옴\r\n",
        "train = pd.read_csv('./Preprocessing/13_1. 최종train.csv', encoding='cp949')\r\n",
        "# 실적데이터와 같은 방법으로 전처리 완료한 예측데이터 test로 받아옴\r\n",
        "test = pd.read_csv('./Preprocessing/13_2. 최종test.csv', encoding='cp949')\r\n",
        "\r\n",
        "# 그래프에서 마이너스 폰트 깨지는 문제에 대한 대처\r\n",
        "mpl.rcParams['axes.unicode_minus'] = False\r\n",
        "\r\n",
        "# warnings 무시\r\n",
        "import warnings\r\n",
        "warnings.filterwarnings('ignore')\r\n",
        "\r\n",
        "# train데이터의 방송일시(날짜)에서 month, day, hour, minute, 요일 컬럼 만들어줌\r\n",
        "train['방송일시']=pd.to_datetime(train['방송일시'])\r\n",
        "train[\"month\"] = train[\"방송일시\"].dt.month\r\n",
        "train[\"day\"] = train[\"방송일시\"].dt.day\r\n",
        "train[\"hour\"] = train[\"방송일시\"].dt.hour\r\n",
        "train[\"minute\"] = train[\"방송일시\"].dt.minute\r\n",
        "train[\"dayofweek\"] = train[\"방송일시\"].dt.dayofweek\r\n",
        "\r\n",
        "# 시각화 및 모델 조정을 통해 1억 2천만원 이상의 취급액을 가진 품목은 이상치라고 판단, 제거\r\n",
        "idx_nm_1 = train[(train['취급액'] >= 120000000)].index\r\n",
        "train = train.drop(idx_nm_1)\r\n",
        "\r\n",
        "# test데이터의 방송일시(날짜)에서 month, day, hour, minute, 요일 컬럼 만들어줌\r\n",
        "test['방송일시']=pd.to_datetime(test['방송일시'])\r\n",
        "test[\"month\"] = test[\"방송일시\"].dt.month\r\n",
        "test[\"day\"] = test[\"방송일시\"].dt.day\r\n",
        "test[\"hour\"] = test[\"방송일시\"].dt.hour\r\n",
        "test[\"minute\"] = test[\"방송일시\"].dt.minute\r\n",
        "test[\"dayofweek\"] = test[\"방송일시\"].dt.dayofweek\r\n",
        "\r\n",
        "# 범주형으로 만들어줄 컬럼 지정 (train데이터 안에 있는 컬럼들)\r\n",
        "categorical_feature_names = [\r\n",
        "                              \"노출(분)\",\r\n",
        "                              \"상품군\",\r\n",
        "                             \"남여\",\r\n",
        "                             \"New판매단가\",\r\n",
        "                             \"무이자/일시불\",\r\n",
        "                             \"시각인덱스\",\r\n",
        "                             \"New상품명\",\r\n",
        "                              \"공휴일 여부\",\r\n",
        "                             \"휴일 여부\",\r\n",
        "                             'dayofweek',\r\n",
        "                             \"month\",\r\n",
        "                             \"day\",\r\n",
        "                             \"hour\",\r\n",
        "                             \"minute\",\r\n",
        "                              \"New요일\",\r\n",
        "                              \"단위가격\"\r\n",
        "                             ]\r\n",
        "\r\n",
        "# 위의 컬럼들 범주형으로 변환\r\n",
        "for var in categorical_feature_names:\r\n",
        "    train[var] = train[var].astype(\"category\")\r\n",
        "    test[var] = test[var].astype(\"category\")\r\n",
        "\r\n",
        "# 컬럼들 중 시행착오를 거쳐 최상의 성능을 보이는 조합의 컬럼들만 사용\r\n",
        "feature_names = [\r\n",
        "                 \"노출(분)\",\r\n",
        "                  \"상품군\",\r\n",
        "                   \"판매단가\",\r\n",
        "                  \"남여\",\r\n",
        "                 \"New판매단가\",\r\n",
        "                 \"단위가격\",\r\n",
        "                   \"무이자/일시불\",\r\n",
        "                 \"최저기온\",\r\n",
        "                 \"최고기온\",\r\n",
        "                 \"평균기온\",\r\n",
        "                 \"강수량\",\r\n",
        "                  \"미세먼지농도\",\r\n",
        "                 \"소비자물가지수\",\r\n",
        "                  \"시각인덱스\",\r\n",
        "                   \"New상품명\",\r\n",
        "                 \"공휴일 여부\",\r\n",
        "                 \"휴일 여부\",\r\n",
        "                 \"New요일\",\r\n",
        "                \"dayofweek\",\r\n",
        "                 \"month\",\r\n",
        "                \"day\",\r\n",
        "                \"hour\",\r\n",
        "                 \"minute\"\r\n",
        "                 ]\r\n",
        "\r\n",
        "# train, test에서 필요한 컬럼들만 사용해서 취급액을 예측할 X값들 지정\r\n",
        "X_train = train[feature_names]\r\n",
        "X_test = test[feature_names]\r\n",
        "\r\n",
        "# X값들을 활용하여 값을 예측해줄 '판매수량'컬럼 분리\r\n",
        "y_train = train[\"판매수량\"]\r\n",
        "y_test = test[\"판매수량\"]\r\n"
      ],
      "execution_count": null,
      "outputs": []
    },
    {
      "cell_type": "markdown",
      "metadata": {
        "id": "1vzqt1eClxgC"
      },
      "source": [
        "* LinearRegression"
      ]
    },
    {
      "cell_type": "code",
      "metadata": {
        "colab": {
          "base_uri": "https://localhost:8080/"
        },
        "id": "nhcX7hJANx20",
        "outputId": "8091b7a3-4eb0-4b1f-f701-9b0ce91ef3cf"
      },
      "source": [
        "from sklearn.linear_model import LinearRegression\r\n",
        "from sklearn.preprocessing import StandardScaler\r\n",
        "\r\n",
        "#연속형 변수 정규화\r\n",
        "sc = StandardScaler()\r\n",
        "for col in [x for x in feature_names if x not in categorical_feature_names] :\r\n",
        "  X_train[col] = sc.fit_transform(X_train[[col]])\r\n",
        "  X_test[col] = sc.fit_transform(X_test[[col]])\r\n",
        "\r\n",
        "model = LinearRegression()\r\n",
        "model.fit(X_train, y_train)\r\n",
        "from sklearn.metrics import mean_squared_error\r\n",
        "some_predicted = model.predict(X_test)\r\n",
        "mse = np.sqrt(mean_squared_error(some_predicted, y_test))\r\n",
        "print('평균제곱근오차', mse)"
      ],
      "execution_count": null,
      "outputs": [
        {
          "output_type": "stream",
          "text": [
            "평균제곱근오차 275.054670330791\n"
          ],
          "name": "stdout"
        }
      ]
    },
    {
      "cell_type": "markdown",
      "metadata": {
        "id": "qmxTlo7jl1Vj"
      },
      "source": [
        "* DecisionTree"
      ]
    },
    {
      "cell_type": "code",
      "metadata": {
        "colab": {
          "base_uri": "https://localhost:8080/"
        },
        "id": "FYLKiy-rNzTb",
        "outputId": "7b720530-5419-4ed2-d9f5-35138d2f4842"
      },
      "source": [
        "from sklearn.tree import DecisionTreeRegressor\r\n",
        "from sklearn.preprocessing import StandardScaler\r\n",
        "\r\n",
        "#연속형 변수 정규화\r\n",
        "sc = StandardScaler()\r\n",
        "for col in [x for x in feature_names if x not in categorical_feature_names] :\r\n",
        "  X_train[col] = sc.fit_transform(X_train[[col]])\r\n",
        "  X_test[col] = sc.fit_transform(X_test[[col]])\r\n",
        "\r\n",
        "model = DecisionTreeRegressor()\r\n",
        "model.fit(X_train, y_train)\r\n",
        "from sklearn.metrics import mean_squared_error\r\n",
        "some_predicted = model.predict(X_test)\r\n",
        "mse = np.sqrt(mean_squared_error(some_predicted, y_test))\r\n",
        "print('평균제곱근오차', mse)"
      ],
      "execution_count": null,
      "outputs": [
        {
          "output_type": "stream",
          "text": [
            "평균제곱근오차 276.7981229096676\n"
          ],
          "name": "stdout"
        }
      ]
    },
    {
      "cell_type": "markdown",
      "metadata": {
        "id": "YQbat2W1l360"
      },
      "source": [
        "* RandomForest"
      ]
    },
    {
      "cell_type": "code",
      "metadata": {
        "colab": {
          "base_uri": "https://localhost:8080/"
        },
        "id": "22CIQUKZN1JT",
        "outputId": "aa51aebd-1a5b-465e-9b32-84479ab42ae3"
      },
      "source": [
        "from sklearn.ensemble import RandomForestRegressor\r\n",
        "from sklearn.preprocessing import StandardScaler\r\n",
        "\r\n",
        "#연속형 변수 정규화\r\n",
        "sc = StandardScaler()\r\n",
        "for col in [x for x in feature_names if x not in categorical_feature_names] :\r\n",
        "  X_train[col] = sc.fit_transform(X_train[[col]])\r\n",
        "  X_test[col] = sc.fit_transform(X_test[[col]])\r\n",
        "\r\n",
        "model = RandomForestRegressor()\r\n",
        "model.fit(X_train, y_train)\r\n",
        "from sklearn.metrics import mean_squared_error\r\n",
        "some_predicted = model.predict(X_test)\r\n",
        "mse = np.sqrt(mean_squared_error(some_predicted, y_test))\r\n",
        "print('평균제곱근오차', mse)"
      ],
      "execution_count": null,
      "outputs": [
        {
          "output_type": "stream",
          "text": [
            "평균제곱근오차 205.04510907542044\n"
          ],
          "name": "stdout"
        }
      ]
    },
    {
      "cell_type": "markdown",
      "metadata": {
        "id": "Smq45vqUl5yZ"
      },
      "source": [
        "* Support Vector Machine"
      ]
    },
    {
      "cell_type": "code",
      "metadata": {
        "colab": {
          "base_uri": "https://localhost:8080/"
        },
        "id": "WCxPEBe7N2d6",
        "outputId": "1256df5d-534e-40f1-990e-812ffc129e33"
      },
      "source": [
        "from sklearn import svm\r\n",
        "from sklearn.preprocessing import StandardScaler\r\n",
        "\r\n",
        "#연속형 변수 정규화\r\n",
        "sc = StandardScaler()\r\n",
        "for col in [x for x in feature_names if x not in categorical_feature_names] :\r\n",
        "  X_train[col] = sc.fit_transform(X_train[[col]])\r\n",
        "  X_test[col] = sc.fit_transform(X_test[[col]])\r\n",
        "\r\n",
        "model = svm.SVR()\r\n",
        "model.fit(X_train, y_train)\r\n",
        "from sklearn.metrics import mean_squared_error\r\n",
        "some_predicted = model.predict(X_test)\r\n",
        "mse = np.sqrt(mean_squared_error(some_predicted, y_test))\r\n",
        "print('평균제곱근오차', mse)"
      ],
      "execution_count": null,
      "outputs": [
        {
          "output_type": "stream",
          "text": [
            "평균제곱근오차 410.99193474946804\n"
          ],
          "name": "stdout"
        }
      ]
    },
    {
      "cell_type": "markdown",
      "metadata": {
        "id": "3_FYHmG8WPUA"
      },
      "source": [
        "*MSE 기준으로 정확도가 가장 높은 RandomForest 알고리즘을 선정.\r\n",
        "\r\n",
        "*하이퍼 파라미터와 데이터의 특성 조정하며 정확도 향상"
      ]
    },
    {
      "cell_type": "markdown",
      "metadata": {
        "id": "m_ehLTHexgfb"
      },
      "source": [
        "#RandomForest 학습 및 평가"
      ]
    },
    {
      "cell_type": "markdown",
      "metadata": {
        "id": "SSRmXbEC0XPa"
      },
      "source": [
        "데이터 검증"
      ]
    },
    {
      "cell_type": "code",
      "metadata": {
        "colab": {
          "base_uri": "https://localhost:8080/"
        },
        "id": "KoEKAr3m0Z6x",
        "outputId": "69e97578-daab-4116-966c-eb566b2c4f59"
      },
      "source": [
        "from sklearn.metrics import make_scorer\r\n",
        "\r\n",
        "def rmsle(predicted_values, actual_values):\r\n",
        "    # 넘파이로 배열 형태로 바꿔준다.\r\n",
        "    predicted_values = np.array(predicted_values)\r\n",
        "    actual_values = np.array(actual_values)\r\n",
        "\r\n",
        "    # 예측값과 실제 값에 1을 더하고 로그를 씌워준다.\r\n",
        "    log_predict = np.log(predicted_values + 1)\r\n",
        "    log_actual = np.log(actual_values + 1)\r\n",
        "\r\n",
        "    # 위에서 계산한 예측값에서 실제값을 빼주고 제곱을 해준다.\r\n",
        "    difference = log_predict - log_actual\r\n",
        "    # difference = (log_predict - log_actual) ** 2\r\n",
        "    difference = np.square(difference)\r\n",
        "\r\n",
        "    # 평균을 낸다.\r\n",
        "    mean_difference = difference.mean()\r\n",
        "\r\n",
        "    # 다시 루트를 씌운다.\r\n",
        "    score = np.sqrt(mean_difference)\r\n",
        "\r\n",
        "    return score\r\n",
        "\r\n",
        "rmsle_scorer = make_scorer(rmsle)\r\n",
        "\r\n",
        "from sklearn.model_selection import KFold\r\n",
        "from sklearn.model_selection import cross_val_score\r\n",
        "\r\n",
        "k_fold = KFold(n_splits=10, shuffle=True, random_state=0)\r\n",
        "\r\n",
        "from sklearn.ensemble import RandomForestRegressor\r\n",
        "\r\n",
        "max_depth_list = []\r\n",
        "\r\n",
        "model = RandomForestRegressor(n_estimators=100,\r\n",
        "                              n_jobs=-1,\r\n",
        "                              random_state=0)\r\n",
        "%time score = cross_val_score(model, X_train, y_train, cv=k_fold, scoring=rmsle_scorer)\r\n",
        "score = score.mean()\r\n",
        "# 0에 근접할수록 좋은 데이터\r\n",
        "print(\"Data Score= {0:.5f}\".format(score))"
      ],
      "execution_count": null,
      "outputs": [
        {
          "output_type": "stream",
          "text": [
            "CPU times: user 5.84 s, sys: 1.05 s, total: 6.89 s\n",
            "Wall time: 2min 8s\n",
            "Data Score= 0.66788\n"
          ],
          "name": "stdout"
        }
      ]
    },
    {
      "cell_type": "markdown",
      "metadata": {
        "id": "8NrqUPW9EVFc"
      },
      "source": [
        "RandomForest 수행"
      ]
    },
    {
      "cell_type": "code",
      "metadata": {
        "colab": {
          "base_uri": "https://localhost:8080/"
        },
        "id": "22exk2-6xezs",
        "outputId": "ad646859-1f19-4080-9a11-3f2493f2530c"
      },
      "source": [
        "from sklearn.ensemble import RandomForestRegressor\r\n",
        "from sklearn.preprocessing import StandardScaler\r\n",
        "\r\n",
        "#연속형 변수만 정규화\r\n",
        "sc = StandardScaler()\r\n",
        "for col in [x for x in feature_names if x not in categorical_feature_names] :\r\n",
        "  X_train[col] = sc.fit_transform(X_train[[col]])\r\n",
        "  X_test[col] = sc.fit_transform(X_test[[col]])\r\n",
        "\r\n",
        "model = RandomForestRegressor(n_estimators=100, criterion='mse', min_samples_split=2, random_state = 42)\r\n",
        "model.fit(X_train, y_train)\r\n",
        "from sklearn.metrics import mean_squared_error\r\n",
        "predictions = model.predict(X_test)\r\n",
        "mse = np.sqrt(mean_squared_error(predictions, y_test))\r\n",
        "print('평균제곱근오차', mse)"
      ],
      "execution_count": null,
      "outputs": [
        {
          "output_type": "stream",
          "text": [
            "평균제곱근오차 205.63448122478837\n"
          ],
          "name": "stdout"
        }
      ]
    },
    {
      "cell_type": "markdown",
      "metadata": {
        "id": "mPTsK_wt2Kii"
      },
      "source": [
        "예측한 데이터 시각화"
      ]
    },
    {
      "cell_type": "code",
      "metadata": {
        "colab": {
          "base_uri": "https://localhost:8080/",
          "height": 386
        },
        "id": "1kvTi8d52MJZ",
        "outputId": "812e1b82-cb8f-48df-f05c-dca398f0200e"
      },
      "source": [
        "# 예측한 데이터를 시각화 해본다. \r\n",
        "import seaborn as sns\r\n",
        "fig,(ax1,ax2)= plt.subplots(ncols=2)\r\n",
        "fig.set_size_inches(12,5)\r\n",
        "sns.distplot(y_train,ax=ax1,bins=50)\r\n",
        "ax1.set(title=\"train\")\r\n",
        "sns.distplot(predictions,ax=ax2,bins=50)\r\n",
        "ax2.set(title=\"test\")"
      ],
      "execution_count": null,
      "outputs": [
        {
          "output_type": "execute_result",
          "data": {
            "text/plain": [
              "[Text(0.5, 1.0, 'test')]"
            ]
          },
          "metadata": {
            "tags": []
          },
          "execution_count": 16
        },
        {
          "output_type": "stream",
          "text": [
            "findfont: Font family ['Malgun Gothic'] not found. Falling back to DejaVu Sans.\n",
            "findfont: Font family ['Malgun Gothic'] not found. Falling back to DejaVu Sans.\n"
          ],
          "name": "stderr"
        },
        {
          "output_type": "display_data",
          "data": {
            "image/png": "[encoded data removed]",
            "text/plain": [
              "<Figure size 864x360 with 2 Axes>"
            ]
          },
          "metadata": {
            "tags": [],
            "needs_background": "light"
          }
        }
      ]
    },
    {
      "cell_type": "markdown",
      "metadata": {
        "id": "Je9K9hwl2OzK"
      },
      "source": [
        "특성 중요도 시각화"
      ]
    },
    {
      "cell_type": "code",
      "metadata": {
        "colab": {
          "base_uri": "https://localhost:8080/",
          "height": 713
        },
        "id": "mHh2KYde2R4S",
        "outputId": "8b260a49-5b4b-443d-e1ce-dd355e25c005"
      },
      "source": [
        "importances = model.feature_importances_\r\n",
        "std = np.std([tree.feature_importances_ for tree in model.estimators_],\r\n",
        "             axis=0)\r\n",
        "indices = np.argsort(importances)[::-1]\r\n",
        "\r\n",
        "# Print the feature ranking\r\n",
        "print(\"Feature ranking:\")\r\n",
        "\r\n",
        "for f in range(X_train.shape[1]):\r\n",
        "    print(\"%d. feature %d (%f)\" % (f + 1, indices[f], importances[indices[f]]))\r\n",
        "\r\n",
        "# Plot the impurity-based feature importances of the forest\r\n",
        "plt.figure()\r\n",
        "plt.title(\"Feature importances\")\r\n",
        "plt.bar(range(X_train.shape[1]), importances[indices],\r\n",
        "        color=\"r\", yerr=std[indices], align=\"center\")\r\n",
        "plt.xticks(range(X_train.shape[1]), indices)\r\n",
        "plt.xlim([-1, X_train.shape[1]])\r\n",
        "plt.show()"
      ],
      "execution_count": null,
      "outputs": [
        {
          "output_type": "stream",
          "text": [
            "Feature ranking:\n",
            "1. feature 2 (0.542925)\n",
            "2. feature 1 (0.086777)\n",
            "3. feature 13 (0.060574)\n",
            "4. feature 22 (0.045071)\n",
            "5. feature 14 (0.035075)\n",
            "6. feature 4 (0.028530)\n",
            "7. feature 19 (0.025161)\n",
            "8. feature 20 (0.017881)\n",
            "9. feature 21 (0.017591)\n",
            "10. feature 7 (0.016908)\n",
            "11. feature 8 (0.016274)\n",
            "12. feature 11 (0.016063)\n",
            "13. feature 9 (0.014641)\n",
            "14. feature 10 (0.013819)\n",
            "15. feature 17 (0.011493)\n",
            "16. feature 18 (0.010108)\n",
            "17. feature 0 (0.010001)\n",
            "18. feature 12 (0.009564)\n",
            "19. feature 16 (0.006202)\n",
            "20. feature 3 (0.005023)\n",
            "21. feature 15 (0.004194)\n",
            "22. feature 6 (0.003485)\n",
            "23. feature 5 (0.002640)\n"
          ],
          "name": "stdout"
        },
        {
          "output_type": "display_data",
          "data": {
            "image/png": "[encoded data removed]",
            "text/plain": [
              "<Figure size 432x288 with 1 Axes>"
            ]
          },
          "metadata": {
            "tags": [],
            "needs_background": "light"
          }
        }
      ]
    },
    {
      "cell_type": "code",
      "metadata": {
        "colab": {
          "base_uri": "https://localhost:8080/"
        },
        "id": "I-CFIZLW2UlQ",
        "outputId": "8dddc5cb-5940-4837-8603-64a92ef3b83d"
      },
      "source": [
        "# 특성 중요도\r\n",
        "\r\n",
        "print(\"특성 중요도 : \\n{}\".format(model.feature_importances_))"
      ],
      "execution_count": null,
      "outputs": [
        {
          "output_type": "stream",
          "text": [
            "특성 중요도 : \n",
            "[0.01000053 0.08677706 0.5429253  0.00502326 0.02852992 0.00264015\n",
            " 0.00348503 0.01690773 0.01627426 0.01464146 0.01381889 0.01606301\n",
            " 0.00956443 0.06057418 0.03507459 0.00419403 0.00620212 0.0114928\n",
            " 0.01010753 0.02516073 0.01788066 0.0175915  0.04507083]\n"
          ],
          "name": "stdout"
        }
      ]
    },
    {
      "cell_type": "markdown",
      "metadata": {
        "id": "suIJNsopM8Cd"
      },
      "source": [
        "PCA(주성분 분석)를 수행하여 설명력이 좋은 특성들만을 선택한다."
      ]
    },
    {
      "cell_type": "code",
      "metadata": {
        "colab": {
          "base_uri": "https://localhost:8080/",
          "height": 542
        },
        "id": "302gPx_bR_a-",
        "outputId": "0b336dc8-902d-4a14-c4e4-f2a28bbfe057"
      },
      "source": [
        "import plotly.express as px\r\n",
        "import numpy as np\r\n",
        "import pandas as pd\r\n",
        "from sklearn.decomposition import PCA\r\n",
        "\r\n",
        "df = pd.DataFrame(X_train, columns=feature_names)\r\n",
        "\r\n",
        "pca = PCA()\r\n",
        "pca.fit(df)\r\n",
        "exp_var_cumul = np.cumsum(pca.explained_variance_ratio_)\r\n",
        "\r\n",
        "px.area(\r\n",
        "    x=range(1, exp_var_cumul.shape[0] + 1),\r\n",
        "    y=exp_var_cumul,\r\n",
        "    labels={\"x\": \"# Components\", \"y\": \"Explained Variance\"}\r\n",
        ")"
      ],
      "execution_count": null,
      "outputs": [
        {
          "output_type": "display_data",
          "data": {
            "text/html": [
              "<html>\n",
              "<head><meta charset=\"utf-8\" /></head>\n",
              "<body>\n",
              "    <div>\n",
              "            <script src=\"https://cdnjs.cloudflare.com/ajax/libs/mathjax/2.7.5/MathJax.js?config=TeX-AMS-MML_SVG\"></script><script type=\"text/javascript\">if (window.MathJax) {MathJax.Hub.Config({SVG: {font: \"STIX-Web\"}});}</script>\n",
              "                <script type=\"text/javascript\">window.PlotlyConfig = {MathJaxConfig: 'local'};</script>\n",
              "        <script src=\"https://cdn.plot.ly/plotly-latest.min.js\"></script>    \n",
              "            <div id=\"92e73253-4dda-42a9-98d2-513122e422ee\" class=\"plotly-graph-div\" style=\"height:525px; width:100%;\"></div>\n",
              "            <script type=\"text/javascript\">\n",
              "                \n",
              "                    window.PLOTLYENV=window.PLOTLYENV || {};\n",
              "                    \n",
              "                if (document.getElementById(\"92e73253-4dda-42a9-98d2-513122e422ee\")) {\n",
              "                    Plotly.newPlot(\n",
              "                        '92e73253-4dda-42a9-98d2-513122e422ee',\n",
              "                        [{\"hoverlabel\": {\"namelength\": 0}, \"hovertemplate\": \"# Components=%{x}<br>Explained Variance=%{y}\", \"legendgroup\": \"\", \"line\": {\"color\": \"#636efa\"}, \"mode\": \"lines\", \"name\": \"\", \"orientation\": \"v\", \"showlegend\": false, \"stackgroup\": \"1\", \"type\": \"scatter\", \"x\": [1, 2, 3, 4, 5, 6, 7, 8, 9, 10, 11, 12, 13, 14, 15, 16, 17, 18, 19, 20, 21, 22, 23], \"xaxis\": \"x\", \"y\": [0.5464701391358772, 0.8728532922664477, 0.9584619440500167, 0.9826815586107658, 0.9868869671160526, 0.9905398763966036, 0.9934149913423684, 0.9958992589266061, 0.9980191487286885, 0.9988926952639952, 0.9992011377643545, 0.9994160998463635, 0.9996112824675399, 0.9997645125270991, 0.9998762857725609, 0.9999273277350874, 0.99995208650388, 0.9999755917296403, 0.9999885204792861, 0.9999996797404426, 0.9999999906939347, 1.0, 1.0], \"yaxis\": \"y\"}],\n",
              "                        {\"legend\": {\"tracegroupgap\": 0}, \"margin\": {\"t\": 60}, \"template\": {\"data\": {\"bar\": [{\"error_x\": {\"color\": \"#2a3f5f\"}, \"error_y\": {\"color\": \"#2a3f5f\"}, \"marker\": {\"line\": {\"color\": \"#E5ECF6\", \"width\": 0.5}}, \"type\": \"bar\"}], \"barpolar\": [{\"marker\": {\"line\": {\"color\": \"#E5ECF6\", \"width\": 0.5}}, \"type\": \"barpolar\"}], \"carpet\": [{\"aaxis\": {\"endlinecolor\": \"#2a3f5f\", \"gridcolor\": \"white\", \"linecolor\": \"white\", \"minorgridcolor\": \"white\", \"startlinecolor\": \"#2a3f5f\"}, \"baxis\": {\"endlinecolor\": \"#2a3f5f\", \"gridcolor\": \"white\", \"linecolor\": \"white\", \"minorgridcolor\": \"white\", \"startlinecolor\": \"#2a3f5f\"}, \"type\": \"carpet\"}], \"choropleth\": [{\"colorbar\": {\"outlinewidth\": 0, \"ticks\": \"\"}, \"type\": \"choropleth\"}], \"contour\": [{\"colorbar\": {\"outlinewidth\": 0, \"ticks\": \"\"}, \"colorscale\": [[0.0, \"#0d0887\"], [0.1111111111111111, \"#46039f\"], [0.2222222222222222, \"#7201a8\"], [0.3333333333333333, \"#9c179e\"], [0.4444444444444444, \"#bd3786\"], [0.5555555555555556, \"#d8576b\"], [0.6666666666666666, \"#ed7953\"], [0.7777777777777778, \"#fb9f3a\"], [0.8888888888888888, \"#fdca26\"], [1.0, \"#f0f921\"]], \"type\": \"contour\"}], \"contourcarpet\": [{\"colorbar\": {\"outlinewidth\": 0, \"ticks\": \"\"}, \"type\": \"contourcarpet\"}], \"heatmap\": [{\"colorbar\": {\"outlinewidth\": 0, \"ticks\": \"\"}, \"colorscale\": [[0.0, \"#0d0887\"], [0.1111111111111111, \"#46039f\"], [0.2222222222222222, \"#7201a8\"], [0.3333333333333333, \"#9c179e\"], [0.4444444444444444, \"#bd3786\"], [0.5555555555555556, \"#d8576b\"], [0.6666666666666666, \"#ed7953\"], [0.7777777777777778, \"#fb9f3a\"], [0.8888888888888888, \"#fdca26\"], [1.0, \"#f0f921\"]], \"type\": \"heatmap\"}], \"heatmapgl\": [{\"colorbar\": {\"outlinewidth\": 0, \"ticks\": \"\"}, \"colorscale\": [[0.0, \"#0d0887\"], [0.1111111111111111, \"#46039f\"], [0.2222222222222222, \"#7201a8\"], [0.3333333333333333, \"#9c179e\"], [0.4444444444444444, \"#bd3786\"], [0.5555555555555556, \"#d8576b\"], [0.6666666666666666, \"#ed7953\"], [0.7777777777777778, \"#fb9f3a\"], [0.8888888888888888, \"#fdca26\"], [1.0, \"#f0f921\"]], \"type\": \"heatmapgl\"}], \"histogram\": [{\"marker\": {\"colorbar\": {\"outlinewidth\": 0, \"ticks\": \"\"}}, \"type\": \"histogram\"}], \"histogram2d\": [{\"colorbar\": {\"outlinewidth\": 0, \"ticks\": \"\"}, \"colorscale\": [[0.0, \"#0d0887\"], [0.1111111111111111, \"#46039f\"], [0.2222222222222222, \"#7201a8\"], [0.3333333333333333, \"#9c179e\"], [0.4444444444444444, \"#bd3786\"], [0.5555555555555556, \"#d8576b\"], [0.6666666666666666, \"#ed7953\"], [0.7777777777777778, \"#fb9f3a\"], [0.8888888888888888, \"#fdca26\"], [1.0, \"#f0f921\"]], \"type\": \"histogram2d\"}], \"histogram2dcontour\": [{\"colorbar\": {\"outlinewidth\": 0, \"ticks\": \"\"}, \"colorscale\": [[0.0, \"#0d0887\"], [0.1111111111111111, \"#46039f\"], [0.2222222222222222, \"#7201a8\"], [0.3333333333333333, \"#9c179e\"], [0.4444444444444444, \"#bd3786\"], [0.5555555555555556, \"#d8576b\"], [0.6666666666666666, \"#ed7953\"], [0.7777777777777778, \"#fb9f3a\"], [0.8888888888888888, \"#fdca26\"], [1.0, \"#f0f921\"]], \"type\": \"histogram2dcontour\"}], \"mesh3d\": [{\"colorbar\": {\"outlinewidth\": 0, \"ticks\": \"\"}, \"type\": \"mesh3d\"}], \"parcoords\": [{\"line\": {\"colorbar\": {\"outlinewidth\": 0, \"ticks\": \"\"}}, \"type\": \"parcoords\"}], \"pie\": [{\"automargin\": true, \"type\": \"pie\"}], \"scatter\": [{\"marker\": {\"colorbar\": {\"outlinewidth\": 0, \"ticks\": \"\"}}, \"type\": \"scatter\"}], \"scatter3d\": [{\"line\": {\"colorbar\": {\"outlinewidth\": 0, \"ticks\": \"\"}}, \"marker\": {\"colorbar\": {\"outlinewidth\": 0, \"ticks\": \"\"}}, \"type\": \"scatter3d\"}], \"scattercarpet\": [{\"marker\": {\"colorbar\": {\"outlinewidth\": 0, \"ticks\": \"\"}}, \"type\": \"scattercarpet\"}], \"scattergeo\": [{\"marker\": {\"colorbar\": {\"outlinewidth\": 0, \"ticks\": \"\"}}, \"type\": \"scattergeo\"}], \"scattergl\": [{\"marker\": {\"colorbar\": {\"outlinewidth\": 0, \"ticks\": \"\"}}, \"type\": \"scattergl\"}], \"scattermapbox\": [{\"marker\": {\"colorbar\": {\"outlinewidth\": 0, \"ticks\": \"\"}}, \"type\": \"scattermapbox\"}], \"scatterpolar\": [{\"marker\": {\"colorbar\": {\"outlinewidth\": 0, \"ticks\": \"\"}}, \"type\": \"scatterpolar\"}], \"scatterpolargl\": [{\"marker\": {\"colorbar\": {\"outlinewidth\": 0, \"ticks\": \"\"}}, \"type\": \"scatterpolargl\"}], \"scatterternary\": [{\"marker\": {\"colorbar\": {\"outlinewidth\": 0, \"ticks\": \"\"}}, \"type\": \"scatterternary\"}], \"surface\": [{\"colorbar\": {\"outlinewidth\": 0, \"ticks\": \"\"}, \"colorscale\": [[0.0, \"#0d0887\"], [0.1111111111111111, \"#46039f\"], [0.2222222222222222, \"#7201a8\"], [0.3333333333333333, \"#9c179e\"], [0.4444444444444444, \"#bd3786\"], [0.5555555555555556, \"#d8576b\"], [0.6666666666666666, \"#ed7953\"], [0.7777777777777778, \"#fb9f3a\"], [0.8888888888888888, \"#fdca26\"], [1.0, \"#f0f921\"]], \"type\": \"surface\"}], \"table\": [{\"cells\": {\"fill\": {\"color\": \"#EBF0F8\"}, \"line\": {\"color\": \"white\"}}, \"header\": {\"fill\": {\"color\": \"#C8D4E3\"}, \"line\": {\"color\": \"white\"}}, \"type\": \"table\"}]}, \"layout\": {\"annotationdefaults\": {\"arrowcolor\": \"#2a3f5f\", \"arrowhead\": 0, \"arrowwidth\": 1}, \"coloraxis\": {\"colorbar\": {\"outlinewidth\": 0, \"ticks\": \"\"}}, \"colorscale\": {\"diverging\": [[0, \"#8e0152\"], [0.1, \"#c51b7d\"], [0.2, \"#de77ae\"], [0.3, \"#f1b6da\"], [0.4, \"#fde0ef\"], [0.5, \"#f7f7f7\"], [0.6, \"#e6f5d0\"], [0.7, \"#b8e186\"], [0.8, \"#7fbc41\"], [0.9, \"#4d9221\"], [1, \"#276419\"]], \"sequential\": [[0.0, \"#0d0887\"], [0.1111111111111111, \"#46039f\"], [0.2222222222222222, \"#7201a8\"], [0.3333333333333333, \"#9c179e\"], [0.4444444444444444, \"#bd3786\"], [0.5555555555555556, \"#d8576b\"], [0.6666666666666666, \"#ed7953\"], [0.7777777777777778, \"#fb9f3a\"], [0.8888888888888888, \"#fdca26\"], [1.0, \"#f0f921\"]], \"sequentialminus\": [[0.0, \"#0d0887\"], [0.1111111111111111, \"#46039f\"], [0.2222222222222222, \"#7201a8\"], [0.3333333333333333, \"#9c179e\"], [0.4444444444444444, \"#bd3786\"], [0.5555555555555556, \"#d8576b\"], [0.6666666666666666, \"#ed7953\"], [0.7777777777777778, \"#fb9f3a\"], [0.8888888888888888, \"#fdca26\"], [1.0, \"#f0f921\"]]}, \"colorway\": [\"#636efa\", \"#EF553B\", \"#00cc96\", \"#ab63fa\", \"#FFA15A\", \"#19d3f3\", \"#FF6692\", \"#B6E880\", \"#FF97FF\", \"#FECB52\"], \"font\": {\"color\": \"#2a3f5f\"}, \"geo\": {\"bgcolor\": \"white\", \"lakecolor\": \"white\", \"landcolor\": \"#E5ECF6\", \"showlakes\": true, \"showland\": true, \"subunitcolor\": \"white\"}, \"hoverlabel\": {\"align\": \"left\"}, \"hovermode\": \"closest\", \"mapbox\": {\"style\": \"light\"}, \"paper_bgcolor\": \"white\", \"plot_bgcolor\": \"#E5ECF6\", \"polar\": {\"angularaxis\": {\"gridcolor\": \"white\", \"linecolor\": \"white\", \"ticks\": \"\"}, \"bgcolor\": \"#E5ECF6\", \"radialaxis\": {\"gridcolor\": \"white\", \"linecolor\": \"white\", \"ticks\": \"\"}}, \"scene\": {\"xaxis\": {\"backgroundcolor\": \"#E5ECF6\", \"gridcolor\": \"white\", \"gridwidth\": 2, \"linecolor\": \"white\", \"showbackground\": true, \"ticks\": \"\", \"zerolinecolor\": \"white\"}, \"yaxis\": {\"backgroundcolor\": \"#E5ECF6\", \"gridcolor\": \"white\", \"gridwidth\": 2, \"linecolor\": \"white\", \"showbackground\": true, \"ticks\": \"\", \"zerolinecolor\": \"white\"}, \"zaxis\": {\"backgroundcolor\": \"#E5ECF6\", \"gridcolor\": \"white\", \"gridwidth\": 2, \"linecolor\": \"white\", \"showbackground\": true, \"ticks\": \"\", \"zerolinecolor\": \"white\"}}, \"shapedefaults\": {\"line\": {\"color\": \"#2a3f5f\"}}, \"ternary\": {\"aaxis\": {\"gridcolor\": \"white\", \"linecolor\": \"white\", \"ticks\": \"\"}, \"baxis\": {\"gridcolor\": \"white\", \"linecolor\": \"white\", \"ticks\": \"\"}, \"bgcolor\": \"#E5ECF6\", \"caxis\": {\"gridcolor\": \"white\", \"linecolor\": \"white\", \"ticks\": \"\"}}, \"title\": {\"x\": 0.05}, \"xaxis\": {\"automargin\": true, \"gridcolor\": \"white\", \"linecolor\": \"white\", \"ticks\": \"\", \"title\": {\"standoff\": 15}, \"zerolinecolor\": \"white\", \"zerolinewidth\": 2}, \"yaxis\": {\"automargin\": true, \"gridcolor\": \"white\", \"linecolor\": \"white\", \"ticks\": \"\", \"title\": {\"standoff\": 15}, \"zerolinecolor\": \"white\", \"zerolinewidth\": 2}}}, \"xaxis\": {\"anchor\": \"y\", \"domain\": [0.0, 1.0], \"title\": {\"text\": \"# Components\"}}, \"yaxis\": {\"anchor\": \"x\", \"domain\": [0.0, 1.0], \"title\": {\"text\": \"Explained Variance\"}}},\n",
              "                        {\"responsive\": true}\n",
              "                    ).then(function(){\n",
              "                            \n",
              "var gd = document.getElementById('92e73253-4dda-42a9-98d2-513122e422ee');\n",
              "var x = new MutationObserver(function (mutations, observer) {{\n",
              "        var display = window.getComputedStyle(gd).display;\n",
              "        if (!display || display === 'none') {{\n",
              "            console.log([gd, 'removed!']);\n",
              "            Plotly.purge(gd);\n",
              "            observer.disconnect();\n",
              "        }}\n",
              "}});\n",
              "\n",
              "// Listen for the removal of the full notebook cells\n",
              "var notebookContainer = gd.closest('#notebook-container');\n",
              "if (notebookContainer) {{\n",
              "    x.observe(notebookContainer, {childList: true});\n",
              "}}\n",
              "\n",
              "// Listen for the clearing of the current output cell\n",
              "var outputEl = gd.closest('.output');\n",
              "if (outputEl) {{\n",
              "    x.observe(outputEl, {childList: true});\n",
              "}}\n",
              "\n",
              "                        })\n",
              "                };\n",
              "                \n",
              "            </script>\n",
              "        </div>\n",
              "</body>\n",
              "</html>"
            ]
          },
          "metadata": {
            "tags": []
          }
        }
      ]
    },
    {
      "cell_type": "code",
      "metadata": {
        "colab": {
          "base_uri": "https://localhost:8080/"
        },
        "id": "lfrpeHb1k0wT",
        "outputId": "72e5f92c-c0d9-4b24-db06-3cfe2dc565b0"
      },
      "source": [
        "pca.explained_variance_ratio_"
      ],
      "execution_count": null,
      "outputs": [
        {
          "output_type": "execute_result",
          "data": {
            "text/plain": [
              "array([5.46470139e-01, 3.26383153e-01, 8.56086518e-02, 2.42196146e-02,\n",
              "       4.20540851e-03, 3.65290928e-03, 2.87511495e-03, 2.48426758e-03,\n",
              "       2.11988980e-03, 8.73546535e-04, 3.08442500e-04, 2.14962082e-04,\n",
              "       1.95182621e-04, 1.53230060e-04, 1.11773245e-04, 5.10419625e-05,\n",
              "       2.47587688e-05, 2.35052258e-05, 1.29287496e-05, 1.11592612e-05,\n",
              "       3.10953492e-07, 9.30606522e-09, 1.79157278e-35])"
            ]
          },
          "metadata": {
            "tags": []
          },
          "execution_count": 20
        }
      ]
    },
    {
      "cell_type": "code",
      "metadata": {
        "id": "REV2zFyflHAi"
      },
      "source": [
        "from sklearn.decomposition import PCA\r\n",
        "pca = PCA(n_components=11) # 주성분을 몇개로 할지 결정\r\n",
        "printcipalComponents_Xtrain = pca.fit_transform(X_train)\r\n",
        "principalDf_Xtrain = pd.DataFrame(data=printcipalComponents_Xtrain, columns = ['principal component1', 'principal component2','principal component3', 'principal component4', 'principal component5','principal component6', 'principal component7', 'principal component8','principal component9', 'principal component10', 'principal component11'])\r\n",
        "printcipalComponents_Xtest = pca.fit_transform(X_test)\r\n",
        "principalDf_Xtest = pd.DataFrame(data=printcipalComponents_Xtest, columns = ['principal component1', 'principal component2','principal component3', 'principal component4', 'principal component5','principal component6', 'principal component7', 'principal component8','principal component9', 'principal component10', 'principal component11'])\r\n",
        "# 주성분으로 이루어진 데이터 프레임 구성"
      ],
      "execution_count": null,
      "outputs": []
    },
    {
      "cell_type": "markdown",
      "metadata": {
        "id": "CwKuyqqjYH38"
      },
      "source": [
        "3개의 특성으로 데이터의 약 96%, 4개의 특성으로 데이터의 98%를 설명 가능하다.\r\n",
        "\r\n",
        "위 결과들을 바탕으로 특성을 선택하고 다시 학습하여 최종 예측을 한다."
      ]
    },
    {
      "cell_type": "code",
      "metadata": {
        "id": "igMTtQFkY0Ja"
      },
      "source": [
        "# train, test에서 필요한 컬럼들만 사용해서 취급액을 예측할 X값들 지정\r\n",
        "X_train = principalDf_Xtrain\r\n",
        "X_test = principalDf_Xtest\r\n",
        "\r\n",
        "# X값들을 활용하여 값을 예측해줄 '판매수량'컬럼 분리\r\n",
        "y_train = train[\"판매수량\"]\r\n",
        "y_test = test[\"판매수량\"]"
      ],
      "execution_count": null,
      "outputs": []
    },
    {
      "cell_type": "code",
      "metadata": {
        "colab": {
          "base_uri": "https://localhost:8080/"
        },
        "id": "9L4DyCMmZIHZ",
        "outputId": "df46c26a-a9da-437b-b033-c45e07ce1ba0"
      },
      "source": [
        "#특성 수정후 재학습\r\n",
        "from sklearn.ensemble import RandomForestRegressor\r\n",
        "from sklearn.preprocessing import StandardScaler\r\n",
        "\r\n",
        "#연속형 변수만 정규화\r\n",
        "sc = StandardScaler()\r\n",
        "for col in [x for x in X_train.columns if x not in categorical_feature_names] :\r\n",
        "  X_train[col] = sc.fit_transform(X_train[[col]])\r\n",
        "  X_test[col] = sc.fit_transform(X_test[[col]])\r\n",
        "\r\n",
        "model = RandomForestRegressor(n_estimators=100, criterion='mse', min_samples_split=2, random_state = 42)\r\n",
        "model.fit(X_train, y_train)\r\n",
        "from sklearn.metrics import mean_squared_error\r\n",
        "predictions = model.predict(X_test)\r\n",
        "mse = np.sqrt(mean_squared_error(predictions, y_test))\r\n",
        "print('평균제곱근오차', mse)"
      ],
      "execution_count": null,
      "outputs": [
        {
          "output_type": "stream",
          "text": [
            "평균제곱근오차 493.3690736819234\n"
          ],
          "name": "stdout"
        }
      ]
    },
    {
      "cell_type": "markdown",
      "metadata": {
        "id": "Fw-I25lmrthw"
      },
      "source": [
        "PCA를 수행하여 특성의 수를 줄어보려 했지만 특성들간 교호작용(상관관계)와 중요도 등으로 결과가 오히려 악화됨 -> 손수 특성을 줄어가며 개선"
      ]
    },
    {
      "cell_type": "code",
      "metadata": {
        "id": "N-n4g2nAr_IQ"
      },
      "source": [
        "feature_names = [\r\n",
        "                #  \"노출(분)\",\r\n",
        "                  \"상품군\",\r\n",
        "                   \"판매단가\",\r\n",
        "                  # \"남여\",\r\n",
        "                 \"New판매단가\",\r\n",
        "                #  \"단위가격\",\r\n",
        "                  #  \"무이자/일시불\",\r\n",
        "                #  \"최저기온\",\r\n",
        "                #  \"최고기온\",\r\n",
        "                #  \"평균기온\",\r\n",
        "                #  \"강수량\",#10\r\n",
        "                  # \"미세먼지농도\",\r\n",
        "                #  \"소비자물가지수\",\r\n",
        "                  \"시각인덱스\",\r\n",
        "                   \"New상품명\",\r\n",
        "                #  \"공휴일 여부\",\r\n",
        "                #  \"휴일 여부\",\r\n",
        "                #  \"New요일\",\r\n",
        "                \"dayofweek\",\r\n",
        "                 \"month\",\r\n",
        "                \"day\",\r\n",
        "                \"hour\",\r\n",
        "                 \"minute\"\r\n",
        "                 ]\r\n",
        "\r\n",
        "# train, test에서 필요한 컬럼들만 사용해서 취급액을 예측할 X값들 지정\r\n",
        "X_train = train[feature_names]\r\n",
        "X_test = test[feature_names]\r\n",
        "\r\n",
        "# X값들을 활용하여 값을 예측해줄 '판매수량'컬럼 분리\r\n",
        "y_train = train[\"판매수량\"]\r\n",
        "y_test = test[\"판매수량\"]"
      ],
      "execution_count": null,
      "outputs": []
    },
    {
      "cell_type": "code",
      "metadata": {
        "colab": {
          "base_uri": "https://localhost:8080/"
        },
        "id": "DD7c5HK-sOjP",
        "outputId": "b32c1cf1-9c35-4629-e150-d5caede4ce06"
      },
      "source": [
        "#특성 수정후 재학습\r\n",
        "from sklearn.ensemble import RandomForestRegressor\r\n",
        "from sklearn.preprocessing import StandardScaler\r\n",
        "\r\n",
        "#연속형 변수만 정규화\r\n",
        "sc = StandardScaler()\r\n",
        "for col in [x for x in feature_names if x not in categorical_feature_names] :\r\n",
        "  X_train[col] = sc.fit_transform(X_train[[col]])\r\n",
        "  X_test[col] = sc.fit_transform(X_test[[col]])\r\n",
        "\r\n",
        "model = RandomForestRegressor(n_estimators=100, criterion='mse', min_samples_split=2, random_state = 42)\r\n",
        "model.fit(X_train, y_train)\r\n",
        "from sklearn.metrics import mean_squared_error\r\n",
        "predictions = model.predict(X_test)\r\n",
        "mse = np.sqrt(mean_squared_error(predictions, y_test))\r\n",
        "print('평균제곱근오차', mse)"
      ],
      "execution_count": null,
      "outputs": [
        {
          "output_type": "stream",
          "text": [
            "평균제곱근오차 202.8400361472853\n"
          ],
          "name": "stdout"
        }
      ]
    },
    {
      "cell_type": "markdown",
      "metadata": {
        "id": "xhkc9H3NuGf2"
      },
      "source": [
        "205.63448122478837 -> 202.8400361472853 로 개선 되었음을 볼 수 있다.\r\n",
        "실험 결과 위에서 선택한 특성들만 고려했을 때 최적이었다.\r\n",
        "\r\n",
        "여러번의 실험을 통해 알아낸 바로는 train and test set을 split 할 때 얼마나 균형잡히게 분리되는지가 정확도에 큰 영향을 미치게 됨을 알 수 있었다. ( 평균제곱근오차가 156으로 산출되는 적도 있었다.)"
      ]
    },
    {
      "cell_type": "markdown",
      "metadata": {
        "id": "ApSG1XGX1xxY"
      },
      "source": [
        "모델 평가"
      ]
    },
    {
      "cell_type": "code",
      "metadata": {
        "colab": {
          "base_uri": "https://localhost:8080/"
        },
        "id": "MFcvcqMw1xHp",
        "outputId": "68eb4472-491b-4429-ecbc-dca3567edb90"
      },
      "source": [
        "# 정확도\r\n",
        "print(\"학습 정확도\", model.score(X_train, y_train))\r\n",
        "print(\"테스트 정확도\", model.score(X_test, y_test))\r\n",
        "\r\n",
        "# # Cross value\r\n",
        "from sklearn.model_selection import cross_val_score\r\n",
        "cv_result = cross_val_score(model, X_train, y_train, cv = 5)\r\n",
        "print(\"cross cal scores: \", cv_result)"
      ],
      "execution_count": null,
      "outputs": [
        {
          "output_type": "stream",
          "text": [
            "학습 정확도 0.9702337292616643\n",
            "테스트 정확도 0.7714733315626213\n",
            "cross cal scores:  [0.83091019 0.81980718 0.81904113 0.85084549 0.82249987]\n"
          ],
          "name": "stdout"
        }
      ]
    },
    {
      "cell_type": "markdown",
      "metadata": {
        "id": "TkN7kRVYU_rY"
      },
      "source": [
        "#2. 딥러닝 학습 및 평가"
      ]
    },
    {
      "cell_type": "markdown",
      "metadata": {
        "id": "hUN-DGQ8uxh_"
      },
      "source": [
        "모델 선정시 다양한 신경망 모델이 있으나, 우리의 문제(예측, 회귀)를 해결하는 데에는 DNN 모델이 가장 적합하다고 판단하여 DNN을 적용시켜보았다.\r\n",
        "\r\n",
        " ( CNN = 이미지 분석, RNN = 시계열 분석에 주로 사용되므로 )"
      ]
    },
    {
      "cell_type": "code",
      "metadata": {
        "id": "M_OahnCRKyqB"
      },
      "source": [
        "import pandas as pd\r\n",
        "\r\n",
        "# 전처리 완료한 실적데이터를 train으로 받아옴\r\n",
        "train = pd.read_csv('./Preprocessing/13_1. 최종train.csv', encoding='cp949')\r\n",
        "# 실적데이터와 같은 방법으로 전처리 완료한 예측데이터 test로 받아옴\r\n",
        "test = pd.read_csv('./Preprocessing/13_2. 최종test.csv', encoding='cp949')\r\n",
        "\r\n",
        "# train데이터의 방송일시(날짜)에서 month, day, hour, minute, 요일 컬럼 만들어줌\r\n",
        "train['방송일시']=pd.to_datetime(train['방송일시'])\r\n",
        "train[\"month\"] = train[\"방송일시\"].dt.month\r\n",
        "train[\"day\"] = train[\"방송일시\"].dt.day\r\n",
        "train[\"hour\"] = train[\"방송일시\"].dt.hour\r\n",
        "train[\"minute\"] = train[\"방송일시\"].dt.minute\r\n",
        "train[\"dayofweek\"] = train[\"방송일시\"].dt.dayofweek\r\n",
        "\r\n",
        "# 시각화 및 모델 조정을 통해 1억 2천만원 이상의 취급액을 가진 품목은 이상치라고 판단, 제거\r\n",
        "idx_nm_1 = train[(train['취급액'] >= 120000000)].index\r\n",
        "train = train.drop(idx_nm_1)\r\n",
        "\r\n",
        "# test데이터의 방송일시(날짜)에서 month, day, hour, minute, 요일 컬럼 만들어줌\r\n",
        "test['방송일시']=pd.to_datetime(test['방송일시'])\r\n",
        "test[\"month\"] = test[\"방송일시\"].dt.month\r\n",
        "test[\"day\"] = test[\"방송일시\"].dt.day\r\n",
        "test[\"hour\"] = test[\"방송일시\"].dt.hour\r\n",
        "test[\"minute\"] = test[\"방송일시\"].dt.minute\r\n",
        "test[\"dayofweek\"] = test[\"방송일시\"].dt.dayofweek\r\n",
        "\r\n",
        "# 범주형으로 만들어줄 컬럼 지정 (train데이터 안에 있는 컬럼들)\r\n",
        "categorical_feature_names = [\r\n",
        "                              \"노출(분)\",\r\n",
        "                              \"상품군\",\r\n",
        "                             \"남여\",\r\n",
        "                             \"New판매단가\",\r\n",
        "                             \"무이자/일시불\",\r\n",
        "                             \"시각인덱스\",\r\n",
        "                             \"New상품명\",\r\n",
        "                              \"공휴일 여부\",\r\n",
        "                             \"휴일 여부\",\r\n",
        "                             'dayofweek',\r\n",
        "                             \"month\",\r\n",
        "                             \"day\",\r\n",
        "                             \"hour\",\r\n",
        "                             \"minute\",\r\n",
        "                              \"New요일\",\r\n",
        "                              \"단위가격\"\r\n",
        "                             ]\r\n",
        "\r\n",
        "# 위의 컬럼들 범주형으로 변환\r\n",
        "for var in categorical_feature_names:\r\n",
        "    train[var] = train[var].astype(\"category\")\r\n",
        "    test[var] = test[var].astype(\"category\")\r\n",
        "\r\n",
        "feature_names = [\r\n",
        "                 #  \"노출(분)\",\r\n",
        "                  \"상품군\",\r\n",
        "                   \"판매단가\",\r\n",
        "                  # \"남여\",\r\n",
        "                 \"New판매단가\",\r\n",
        "                #  \"단위가격\",\r\n",
        "                  #  \"무이자/일시불\",\r\n",
        "                #  \"최저기온\",\r\n",
        "                #  \"최고기온\",\r\n",
        "                #  \"평균기온\",\r\n",
        "                #  \"강수량\",#10\r\n",
        "                  # \"미세먼지농도\",\r\n",
        "                #  \"소비자물가지수\",\r\n",
        "                  \"시각인덱스\",\r\n",
        "                   \"New상품명\",\r\n",
        "                #  \"공휴일 여부\",\r\n",
        "                #  \"휴일 여부\",\r\n",
        "                #  \"New요일\",\r\n",
        "                \"dayofweek\",\r\n",
        "                 \"month\",\r\n",
        "                \"day\",\r\n",
        "                \"hour\",\r\n",
        "                 \"minute\"\r\n",
        "                 ]\r\n",
        "\r\n",
        "# train, test에서 필요한 컬럼들만 사용해서 취급액을 예측할 X값들 지정\r\n",
        "X_train = train[feature_names]\r\n",
        "X_test = test[feature_names]\r\n",
        "\r\n",
        "# X값들을 활용하여 값을 예측해줄 '판매수량'컬럼 분리\r\n",
        "y_train = train[\"판매수량\"]\r\n",
        "y_test = test[\"판매수량\"]"
      ],
      "execution_count": null,
      "outputs": []
    },
    {
      "cell_type": "code",
      "metadata": {
        "colab": {
          "base_uri": "https://localhost:8080/"
        },
        "id": "Gyh9Qm5evNhd",
        "outputId": "acd0299e-b4aa-4e26-d7dd-6723d35605f0"
      },
      "source": [
        "from keras import layers, models\r\n",
        "import tensorflow as tf\r\n",
        "from sklearn.preprocessing import StandardScaler\r\n",
        "\r\n",
        "\r\n",
        "# 각 레이어의 가중치와 바이어스를 초기화하는 옵션이 있음\r\n",
        "# keras.initializers.RandomNormal(mean=0.0, stddev=0.05, seed=None)\r\n",
        "# keras.initializers.RandomUniform(minval=-0.05, maxval=0.05, seed=None)\r\n",
        "\r\n",
        "sc = StandardScaler()\r\n",
        "for col in [x for x in feature_names if x not in categorical_feature_names] :\r\n",
        "  X_train[col] = sc.fit_transform(X_train[[col]])\r\n",
        "  X_test[col] = sc.fit_transform(X_test[[col]])\r\n",
        "# X_train = sc.fit_transform(X_train)\r\n",
        "# X_test = sc.fit_transform(X_test)\r\n",
        "\r\n",
        "clf = models.Sequential([\r\n",
        "    layers.Dense(units=40, input_shape=(10,), activation='relu'),\r\n",
        "    layers.Dense(units=30, activation='relu'),\r\n",
        "    # layers.Dropout(0.2),\r\n",
        "    layers.Dense(units=16, activation='relu'),\r\n",
        "    layers.Dense(units=8, activation='relu'),\r\n",
        "    layers.Dense(units=1)\r\n",
        "])\r\n",
        "\r\n",
        "clf.compile(optimizer=\"adam\", loss='mse', metrics=['accuracy'])\r\n",
        "clf.summary()\r\n",
        "\r\n",
        "clf.fit(X_train, y_train, batch_size=100, epochs=30)\r\n",
        "\r\n",
        "score = clf.evaluate(X_test, y_test, verbose=0)\r\n",
        "\r\n",
        "print(clf.metrics_names)\r\n",
        "print(score)"
      ],
      "execution_count": null,
      "outputs": [
        {
          "output_type": "stream",
          "text": [
            "Model: \"sequential_61\"\n",
            "_________________________________________________________________\n",
            "Layer (type)                 Output Shape              Param #   \n",
            "=================================================================\n",
            "dense_266 (Dense)            (None, 40)                440       \n",
            "_________________________________________________________________\n",
            "dense_267 (Dense)            (None, 30)                1230      \n",
            "_________________________________________________________________\n",
            "dense_268 (Dense)            (None, 16)                496       \n",
            "_________________________________________________________________\n",
            "dense_269 (Dense)            (None, 8)                 136       \n",
            "_________________________________________________________________\n",
            "dense_270 (Dense)            (None, 1)                 9         \n",
            "=================================================================\n",
            "Total params: 2,311\n",
            "Trainable params: 2,311\n",
            "Non-trainable params: 0\n",
            "_________________________________________________________________\n",
            "Epoch 1/30\n",
            "262/262 [==============================] - 1s 2ms/step - loss: 199731.5245 - accuracy: 1.7686e-04\n",
            "Epoch 2/30\n",
            "262/262 [==============================] - 1s 2ms/step - loss: 112598.9362 - accuracy: 0.0000e+00\n",
            "Epoch 3/30\n",
            "262/262 [==============================] - 1s 2ms/step - loss: 68189.7268 - accuracy: 5.0030e-06\n",
            "Epoch 4/30\n",
            "262/262 [==============================] - 1s 2ms/step - loss: 67779.2637 - accuracy: 0.0035\n",
            "Epoch 5/30\n",
            "262/262 [==============================] - 1s 2ms/step - loss: 63986.8691 - accuracy: 0.0107\n",
            "Epoch 6/30\n",
            "262/262 [==============================] - 1s 2ms/step - loss: 64099.8643 - accuracy: 0.0176\n",
            "Epoch 7/30\n",
            "262/262 [==============================] - 1s 2ms/step - loss: 64074.0823 - accuracy: 0.0171\n",
            "Epoch 8/30\n",
            "262/262 [==============================] - 1s 2ms/step - loss: 61333.1042 - accuracy: 0.0256\n",
            "Epoch 9/30\n",
            "262/262 [==============================] - 1s 2ms/step - loss: 62666.3735 - accuracy: 0.0203\n",
            "Epoch 10/30\n",
            "262/262 [==============================] - 1s 2ms/step - loss: 58931.4715 - accuracy: 0.0260\n",
            "Epoch 11/30\n",
            "262/262 [==============================] - 1s 2ms/step - loss: 60352.6218 - accuracy: 0.0232\n",
            "Epoch 12/30\n",
            "262/262 [==============================] - 1s 2ms/step - loss: 59889.4993 - accuracy: 0.0248\n",
            "Epoch 13/30\n",
            "262/262 [==============================] - 1s 2ms/step - loss: 56016.7949 - accuracy: 0.0224\n",
            "Epoch 14/30\n",
            "262/262 [==============================] - 1s 2ms/step - loss: 57664.7135 - accuracy: 0.0241\n",
            "Epoch 15/30\n",
            "262/262 [==============================] - 1s 2ms/step - loss: 55891.9822 - accuracy: 0.0221\n",
            "Epoch 16/30\n",
            "262/262 [==============================] - 1s 2ms/step - loss: 56278.1762 - accuracy: 0.0223\n",
            "Epoch 17/30\n",
            "262/262 [==============================] - 1s 2ms/step - loss: 54893.7982 - accuracy: 0.0206\n",
            "Epoch 18/30\n",
            "262/262 [==============================] - 1s 2ms/step - loss: 57227.8522 - accuracy: 0.0179\n",
            "Epoch 19/30\n",
            "262/262 [==============================] - 1s 2ms/step - loss: 56898.9508 - accuracy: 0.0221\n",
            "Epoch 20/30\n",
            "262/262 [==============================] - 1s 2ms/step - loss: 56190.4614 - accuracy: 0.0175\n",
            "Epoch 21/30\n",
            "262/262 [==============================] - 1s 2ms/step - loss: 58267.3169 - accuracy: 0.0141\n",
            "Epoch 22/30\n",
            "262/262 [==============================] - 1s 2ms/step - loss: 53830.2344 - accuracy: 0.0167\n",
            "Epoch 23/30\n",
            "262/262 [==============================] - 1s 2ms/step - loss: 54836.1334 - accuracy: 0.0146\n",
            "Epoch 24/30\n",
            "262/262 [==============================] - 1s 2ms/step - loss: 53914.7390 - accuracy: 0.0145\n",
            "Epoch 25/30\n",
            "262/262 [==============================] - 1s 2ms/step - loss: 54578.8379 - accuracy: 0.0132\n",
            "Epoch 26/30\n",
            "262/262 [==============================] - 1s 2ms/step - loss: 51891.6362 - accuracy: 0.0111\n",
            "Epoch 27/30\n",
            "262/262 [==============================] - 1s 2ms/step - loss: 55994.6784 - accuracy: 0.0109\n",
            "Epoch 28/30\n",
            "262/262 [==============================] - 1s 2ms/step - loss: 54361.9673 - accuracy: 0.0136\n",
            "Epoch 29/30\n",
            "262/262 [==============================] - 1s 2ms/step - loss: 53803.8063 - accuracy: 0.0069\n",
            "Epoch 30/30\n",
            "262/262 [==============================] - 1s 2ms/step - loss: 53683.0568 - accuracy: 0.0105\n",
            "['loss', 'accuracy']\n",
            "[64134.55859375, 0.009632536210119724]\n"
          ],
          "name": "stdout"
        }
      ]
    },
    {
      "cell_type": "markdown",
      "metadata": {
        "id": "QeJ9PoidY4Xr"
      },
      "source": [
        "결과 : 데이터의 문제인지 모델의 문제인지, loss값은 비정상적으로 높고, 정확도는 너무 낮은 결과가 나왔다. 머신러닝은 정상적으로 된 것으로 보아 모델의 문제일 가능성이 높지만 일주일 간 모델의 변수들을 무수히 바꿔가며 실험해보고 문제점을 검색해본 결과, 명확한 해결법이 나오지 않았다."
      ]
    },
    {
      "cell_type": "markdown",
      "metadata": {
        "id": "TGvvlpLqZa7J"
      },
      "source": [
        "따라서 추가로 두번째로 정확도가 높았던 머신러닝 기법인 LinearRegression을 적용시켜보기로 하였다."
      ]
    },
    {
      "cell_type": "code",
      "metadata": {
        "id": "1g7evSUoZvjV"
      },
      "source": [
        "import pandas as pd\r\n",
        "\r\n",
        "# 전처리 완료한 실적데이터를 train으로 받아옴\r\n",
        "train = pd.read_csv('./Preprocessing/13_1. 최종train.csv', encoding='cp949')\r\n",
        "# 실적데이터와 같은 방법으로 전처리 완료한 예측데이터 test로 받아옴\r\n",
        "test = pd.read_csv('./Preprocessing/13_2. 최종test.csv', encoding='cp949')\r\n",
        "\r\n",
        "# train데이터의 방송일시(날짜)에서 month, day, hour, minute, 요일 컬럼 만들어줌\r\n",
        "train['방송일시']=pd.to_datetime(train['방송일시'])\r\n",
        "train[\"month\"] = train[\"방송일시\"].dt.month\r\n",
        "train[\"day\"] = train[\"방송일시\"].dt.day\r\n",
        "train[\"hour\"] = train[\"방송일시\"].dt.hour\r\n",
        "train[\"minute\"] = train[\"방송일시\"].dt.minute\r\n",
        "train[\"dayofweek\"] = train[\"방송일시\"].dt.dayofweek\r\n",
        "\r\n",
        "# 시각화 및 모델 조정을 통해 1억 2천만원 이상의 취급액을 가진 품목은 이상치라고 판단, 제거\r\n",
        "idx_nm_1 = train[(train['취급액'] >= 120000000)].index\r\n",
        "train = train.drop(idx_nm_1)\r\n",
        "\r\n",
        "# test데이터의 방송일시(날짜)에서 month, day, hour, minute, 요일 컬럼 만들어줌\r\n",
        "test['방송일시']=pd.to_datetime(test['방송일시'])\r\n",
        "test[\"month\"] = test[\"방송일시\"].dt.month\r\n",
        "test[\"day\"] = test[\"방송일시\"].dt.day\r\n",
        "test[\"hour\"] = test[\"방송일시\"].dt.hour\r\n",
        "test[\"minute\"] = test[\"방송일시\"].dt.minute\r\n",
        "test[\"dayofweek\"] = test[\"방송일시\"].dt.dayofweek\r\n",
        "\r\n",
        "# 범주형으로 만들어줄 컬럼 지정 (train데이터 안에 있는 컬럼들)\r\n",
        "categorical_feature_names = [\r\n",
        "                              \"노출(분)\",\r\n",
        "                              \"상품군\",\r\n",
        "                             \"남여\",\r\n",
        "                             \"New판매단가\",\r\n",
        "                             \"무이자/일시불\",\r\n",
        "                             \"시각인덱스\",\r\n",
        "                             \"New상품명\",\r\n",
        "                              \"공휴일 여부\",\r\n",
        "                             \"휴일 여부\",\r\n",
        "                             'dayofweek',\r\n",
        "                             \"month\",\r\n",
        "                             \"day\",\r\n",
        "                             \"hour\",\r\n",
        "                             \"minute\",\r\n",
        "                              \"New요일\",\r\n",
        "                              \"단위가격\"\r\n",
        "                             ]\r\n",
        "\r\n",
        "# 위의 컬럼들 범주형으로 변환\r\n",
        "for var in categorical_feature_names:\r\n",
        "    train[var] = train[var].astype(\"category\")\r\n",
        "    test[var] = test[var].astype(\"category\")\r\n",
        "\r\n",
        "feature_names = [\r\n",
        "                  #  \"노출(분)\",\r\n",
        "                  \"상품군\",\r\n",
        "                   \"판매단가\",\r\n",
        "                  # \"남여\",\r\n",
        "                 \"New판매단가\",\r\n",
        "                #  \"단위가격\",\r\n",
        "                  #  \"무이자/일시불\",\r\n",
        "                #  \"최저기온\",\r\n",
        "                #  \"최고기온\",\r\n",
        "                #  \"평균기온\",\r\n",
        "                #  \"강수량\",#10\r\n",
        "                  # \"미세먼지농도\",\r\n",
        "                #  \"소비자물가지수\",\r\n",
        "                  \"시각인덱스\",\r\n",
        "                   \"New상품명\",\r\n",
        "                #  \"공휴일 여부\",\r\n",
        "                #  \"휴일 여부\",\r\n",
        "                #  \"New요일\",\r\n",
        "                \"dayofweek\",\r\n",
        "                 \"month\",\r\n",
        "                \"day\",\r\n",
        "                \"hour\",\r\n",
        "                 \"minute\"\r\n",
        "                 ]\r\n",
        "\r\n",
        "# train, test에서 필요한 컬럼들만 사용해서 취급액을 예측할 X값들 지정\r\n",
        "X_train = train[feature_names]\r\n",
        "X_test = test[feature_names]\r\n",
        "\r\n",
        "# X값들을 활용하여 값을 예측해줄 '판매수량'컬럼 분리\r\n",
        "y_train = train[\"판매수량\"]\r\n",
        "y_test = test[\"판매수량\"]"
      ],
      "execution_count": 3,
      "outputs": []
    },
    {
      "cell_type": "code",
      "metadata": {
        "colab": {
          "base_uri": "https://localhost:8080/"
        },
        "id": "RcXKA9xUZowY",
        "outputId": "55a15d36-3d4c-45c6-fe3e-06dbcd704cfe"
      },
      "source": [
        "from sklearn.linear_model import LinearRegression\r\n",
        "from sklearn.preprocessing import StandardScaler\r\n",
        "import numpy as np\r\n",
        "#연속형 변수 정규화\r\n",
        "sc = StandardScaler()\r\n",
        "for col in [x for x in feature_names if x not in categorical_feature_names] :\r\n",
        "  X_train[col] = sc.fit_transform(X_train[[col]])\r\n",
        "  X_test[col] = sc.fit_transform(X_test[[col]])\r\n",
        "\r\n",
        "model = LinearRegression()\r\n",
        "model.fit(X_train, y_train)\r\n",
        "from sklearn.metrics import mean_squared_error\r\n",
        "some_predicted = model.predict(X_test)\r\n",
        "mse = np.sqrt(mean_squared_error(some_predicted, y_test))\r\n",
        "print('평균제곱근오차', mse)\r\n"
      ],
      "execution_count": 6,
      "outputs": [
        {
          "output_type": "stream",
          "text": [
            "평균제곱근오차 280.32852764017866\n"
          ],
          "name": "stdout"
        },
        {
          "output_type": "stream",
          "text": [
            "/usr/local/lib/python3.6/dist-packages/ipykernel_launcher.py:7: SettingWithCopyWarning: \n",
            "A value is trying to be set on a copy of a slice from a DataFrame.\n",
            "Try using .loc[row_indexer,col_indexer] = value instead\n",
            "\n",
            "See the caveats in the documentation: https://pandas.pydata.org/pandas-docs/stable/user_guide/indexing.html#returning-a-view-versus-a-copy\n",
            "  import sys\n",
            "/usr/local/lib/python3.6/dist-packages/ipykernel_launcher.py:8: SettingWithCopyWarning: \n",
            "A value is trying to be set on a copy of a slice from a DataFrame.\n",
            "Try using .loc[row_indexer,col_indexer] = value instead\n",
            "\n",
            "See the caveats in the documentation: https://pandas.pydata.org/pandas-docs/stable/user_guide/indexing.html#returning-a-view-versus-a-copy\n",
            "  \n"
          ],
          "name": "stderr"
        }
      ]
    },
    {
      "cell_type": "code",
      "metadata": {
        "colab": {
          "base_uri": "https://localhost:8080/"
        },
        "id": "i3UPMz3YZ7Q1",
        "outputId": "575c5d34-2fa8-41d1-8bc5-fb1001612517"
      },
      "source": [
        "# 정확도\r\n",
        "print(\"학습 정확도\", model.score(X_train, y_train))\r\n",
        "print(\"테스트 정확도\", model.score(X_test, y_test))\r\n",
        "\r\n",
        "# # Cross value\r\n",
        "from sklearn.model_selection import cross_val_score\r\n",
        "cv_result = cross_val_score(model, X_train, y_train, cv = 5)\r\n",
        "print(\"cross cal scores: \", cv_result)"
      ],
      "execution_count": 7,
      "outputs": [
        {
          "output_type": "stream",
          "text": [
            "학습 정확도 0.5863349789751746\n",
            "테스트 정확도 0.5635202279814872\n",
            "cross cal scores:  [0.57706018 0.58287283 0.57775524 0.61588056 0.57719907]\n"
          ],
          "name": "stdout"
        }
      ]
    },
    {
      "cell_type": "markdown",
      "metadata": {
        "id": "OlmGMDOlaX_R"
      },
      "source": [
        "단순 선형 회귀 알고리즘이기 때문에 RandomForest 모델 보다 정확도가 현저히 낮은 것을 확인할 수 있다."
      ]
    },
    {
      "cell_type": "markdown",
      "metadata": {
        "id": "6fnvW5YlaikE"
      },
      "source": [
        "# 최종 결과\r\n",
        "RandomForest 모델로 학습했을 경우 학습 정확도 0.97, 테스트 정확도 0.77 로 판매실적을 예측 할 수 있다."
      ]
    },
    {
      "cell_type": "markdown",
      "metadata": {
        "id": "Y6MZGmWUvRIH"
      },
      "source": [
        "#참고 사이트\r\n",
        "* PCA _ https://plotly.com/python/pca-visualization/"
      ]
    }
  ]
}